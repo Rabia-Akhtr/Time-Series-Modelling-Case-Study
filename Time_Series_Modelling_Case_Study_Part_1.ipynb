{
  "nbformat": 4,
  "nbformat_minor": 0,
  "metadata": {
    "colab": {
      "provenance": [],
      "mount_file_id": "12ygq3jg24Kekeq1DFXBizT-OOEE4yrWg",
      "authorship_tag": "ABX9TyPkzXzyRBH4xGohXQGC9MGt",
      "include_colab_link": true
    },
    "kernelspec": {
      "name": "python3",
      "display_name": "Python 3"
    },
    "language_info": {
      "name": "python"
    }
  },
  "cells": [
    {
      "cell_type": "markdown",
      "metadata": {
        "id": "view-in-github",
        "colab_type": "text"
      },
      "source": [
        "<a href=\"https://colab.research.google.com/github/Rabia-Akhtr/Time-Series-Modelling-Case-Study/blob/main/Time_Series_Modelling_Case_Study_Part_1.ipynb\" target=\"_parent\"><img src=\"https://colab.research.google.com/assets/colab-badge.svg\" alt=\"Open In Colab\"/></a>"
      ]
    },
    {
      "cell_type": "markdown",
      "source": [
        "# **Import Libraries**"
      ],
      "metadata": {
        "id": "6dp8Z8Wd56E0"
      }
    },
    {
      "cell_type": "code",
      "source": [
        "import pandas as pd\n",
        "import numpy as np\n",
        "import matplotlib.pyplot as plt\n",
        "import warnings\n",
        "from statsmodels.graphics.tsaplots import plot_acf, plot_pacf\n",
        "from statsmodels.tsa.stattools import adfuller\n",
        "from statsmodels.tsa.arima.model import ARIMA\n",
        "from sklearn.metrics import mean_squared_error\n",
        "from itertools import product\n",
        "\n",
        "warnings.filterwarnings(\"ignore\")\n",
        "plt.rcParams['figure.figsize'] = [7, 5]\n"
      ],
      "metadata": {
        "id": "A5KZivVj516S"
      },
      "execution_count": null,
      "outputs": []
    },
    {
      "cell_type": "markdown",
      "source": [
        "# **Load and Read the Data**"
      ],
      "metadata": {
        "id": "IeafVEC16Us9"
      }
    },
    {
      "cell_type": "code",
      "source": [
        "# Load data\n",
        "data = pd.read_csv('/content/drive/MyDrive/Advance Research/Assignment 1/oil_price.csv')\n",
        "\n",
        "# Preview data\n",
        "data.head()"
      ],
      "metadata": {
        "id": "g2Dq_kuR6S5g"
      },
      "execution_count": null,
      "outputs": []
    },
    {
      "cell_type": "code",
      "source": [
        "print(data.columns.tolist())"
      ],
      "metadata": {
        "id": "GdsQsgI3jTzw"
      },
      "execution_count": null,
      "outputs": []
    },
    {
      "cell_type": "code",
      "source": [
        "data.tail()"
      ],
      "metadata": {
        "id": "M74-uji4SpkV"
      },
      "execution_count": null,
      "outputs": []
    },
    {
      "cell_type": "code",
      "source": [
        "data = data.dropna()"
      ],
      "metadata": {
        "id": "U0MEsJrVUHsS"
      },
      "execution_count": null,
      "outputs": []
    },
    {
      "cell_type": "code",
      "source": [
        "# Read data\n",
        "pd.concat([data.head(), data.tail()])"
      ],
      "metadata": {
        "id": "U6MXatAx-hLi"
      },
      "execution_count": null,
      "outputs": []
    },
    {
      "cell_type": "code",
      "source": [
        "# Null values\n",
        "data.isna().sum()"
      ],
      "metadata": {
        "id": "WHPE_XG7-18O"
      },
      "execution_count": null,
      "outputs": []
    },
    {
      "cell_type": "code",
      "source": [
        "# Get the shape of the dataset\n",
        "print(data.shape)"
      ],
      "metadata": {
        "id": "VPgTeZKFSY9n"
      },
      "execution_count": null,
      "outputs": []
    },
    {
      "cell_type": "code",
      "source": [
        "print(data.describe())"
      ],
      "metadata": {
        "id": "8_Hlz_KRSRCr"
      },
      "execution_count": null,
      "outputs": []
    },
    {
      "cell_type": "code",
      "source": [
        "# Convert date column\n",
        "data['Date'] = pd.to_datetime(data['Date'], format='%b %d, %Y')\n",
        "# Set the 'Date' column as the index\n",
        "data.set_index('Date', inplace=True)\n",
        "\n",
        "# Convert 'Price' column to numeric  and drop missing rows\n",
        "data['Price'] = pd.to_numeric(data['Price'], errors='coerce')\n",
        "data.dropna(inplace=True)\n",
        "\n",
        "# Preview the cleaned data\n",
        "print(data.head())"
      ],
      "metadata": {
        "id": "pEXbMgM_nzvL"
      },
      "execution_count": null,
      "outputs": []
    },
    {
      "cell_type": "markdown",
      "source": [
        "This is the ideal structure for ARIMA modeling ✅"
      ],
      "metadata": {
        "id": "D6QK51ZYkAKi"
      }
    },
    {
      "cell_type": "markdown",
      "source": [
        "# **Exploratory Data Analysis (EDA)**"
      ],
      "metadata": {
        "id": "C7H2gfiAStfE"
      }
    },
    {
      "cell_type": "markdown",
      "source": [
        "# **Time Series Plot**"
      ],
      "metadata": {
        "id": "Bor4pmbe7NSl"
      }
    },
    {
      "cell_type": "code",
      "source": [
        "import matplotlib.pyplot as plt\n",
        "\n",
        "def plot_oil_price(dataframe):\n",
        "    \"\"\"\n",
        "    Plots the oil price time series using the index (Date) and the 'Price' column.\n",
        "    \"\"\"\n",
        "    plt.figure(figsize=(7, 5), dpi=144)\n",
        "    plt.plot(dataframe.index, dataframe['Price'], label='Oil Price')  # Use index, not 'Date'\n",
        "    plt.title('Oil Price Time series')\n",
        "    plt.xlabel('Date')\n",
        "    plt.ylabel('Price')\n",
        "    plt.legend()\n",
        "    plt.xticks(rotation=45)\n",
        "    plt.xticks(fontsize=12)\n",
        "    plt.yticks(fontsize=12)\n",
        "    plt.tight_layout()\n",
        "\n",
        "    # Force x-axis range to match the actual data range\n",
        "    plt.xlim(data.index.min(), data.index.max())\n",
        "\n",
        "    plt.show()\n",
        "\n",
        "plot_oil_price(data)\n"
      ],
      "metadata": {
        "id": "VGUCuDyWkOaG"
      },
      "execution_count": null,
      "outputs": []
    },
    {
      "cell_type": "code",
      "source": [
        "import matplotlib.pyplot as plt\n",
        "\n",
        "def plot_price_distribution(df, price_col='Price', bins=30):\n",
        "    \"\"\"\n",
        "\n",
        "    \"\"\"\n",
        "    # Create a figure with two subplots (1 row, 2 columns)\n",
        "    fig, (ax_hist, ax_box) = plt.subplots(\n",
        "        nrows=1, ncols=2,\n",
        "        figsize=(12, 5),      # width=12 inches, height=5 inches\n",
        "        dpi=144               # higher DPI for crispness\n",
        "    )\n",
        "\n",
        "    # --- Histogram on the left ---\n",
        "    ax_hist.hist(\n",
        "        df[price_col],        # data to plot\n",
        "        bins=bins,            # number of bars\n",
        "        edgecolor='black'     # black border around bars\n",
        "    )\n",
        "    ax_hist.set_title('Histogram of Oil Prices')   # descriptive title\n",
        "    ax_hist.set_xlabel('Price')                    # x-axis label\n",
        "    ax_hist.set_ylabel('Frequency')                # y-axis label\n",
        "\n",
        "    # --- Boxplot on the right ---\n",
        "    ax_box.boxplot(\n",
        "        df[price_col],        # data to plot\n",
        "        vert=False,           # horizontal box\n",
        "        patch_artist=True     # fill box with color\n",
        "    )\n",
        "    ax_box.set_title('Boxplot of Oil Prices')      # descriptive title\n",
        "    ax_box.set_xlabel('Price')                     # x-axis label\n",
        "\n",
        "    # Layout tweaks\n",
        "    plt.tight_layout()  # adjust subplots to fit in figure area\n",
        "    plt.show()          # render the figure\n"
      ],
      "metadata": {
        "id": "6j-xJVBMhBcl"
      },
      "execution_count": null,
      "outputs": []
    },
    {
      "cell_type": "code",
      "source": [
        "plot_price_distribution(data)\n"
      ],
      "metadata": {
        "id": "k4MrbuMHhEBL"
      },
      "execution_count": null,
      "outputs": []
    },
    {
      "cell_type": "code",
      "source": [
        "\n",
        "from statsmodels.tsa.seasonal import seasonal_decompose\n",
        "\n",
        "# Rolling Mean ± Standard Deviation (30-day window)\n",
        "window = 30\n",
        "rol_mean = data['Price'].rolling(window=window).mean()\n",
        "rol_std  = data['Price'].rolling(window=window).std()\n",
        "\n",
        "plt.figure(figsize=(7, 5), dpi=144)\n",
        "plt.plot(data['Price'],      label='Original', alpha=0.5)\n",
        "plt.plot(rol_mean,           label=f'{window}-Day Rolling Mean', color='red')\n",
        "plt.fill_between(rol_std.index,\n",
        "                 rol_mean - rol_std,\n",
        "                 rol_mean + rol_std,\n",
        "                 color='red', alpha=0.2,\n",
        "                 label='Rolling ±1 Std Dev')\n",
        "\n",
        "plt.title('Original Oil Price series, Rolling Mean & Standard Deviation')\n",
        "plt.xlabel('Date',fontsize=12)\n",
        "plt.ylabel('Price',fontsize=12)\n",
        "plt.legend()\n",
        "plt.xticks(rotation=45)\n",
        "plt.xticks(fontsize=12)\n",
        "plt.yticks(fontsize=12)\n",
        "plt.tight_layout()\n",
        "plt.tight_layout()\n",
        "plt.show()\n",
        "\n"
      ],
      "metadata": {
        "id": "RubBh8bhgvNG"
      },
      "execution_count": null,
      "outputs": []
    },
    {
      "cell_type": "code",
      "source": [
        "def plot_acf_pacf(price):\n",
        "    \"\"\"\n",
        "    Plots the ACF and PACF of the given price data.\n",
        "\n",
        "    Parameters:\n",
        "    pandas Series (e.g., data['Price'])\n",
        "    \"\"\"\n",
        "    # Plot ACF (Autocorrelation Function)\n",
        "    plot_acf(data['Price'])\n",
        "    plt.title('Autocorrelation (ACF) of Oil Price')\n",
        "    plt.show()\n",
        "\n",
        "    # Plot PACF (Partial Autocorrelation Function)\n",
        "    plot_pacf(data['Price'])\n",
        "    plt.title('Partial Autocorrelation (PACF) of Oil Price')\n",
        "    plt.show()\n",
        "    return\n",
        "\n",
        "plot_acf_pacf(data['Price'])"
      ],
      "metadata": {
        "id": "bl9G5yHeQbAI"
      },
      "execution_count": null,
      "outputs": []
    },
    {
      "cell_type": "markdown",
      "source": [
        "ACF Plot Insight:\n",
        "All bars are significantly above confidence bounds, even at high lags.\n",
        "\n",
        "This means the series is non-stationary and needs differencing (d ≥ 1).\n",
        "\n",
        "PACF Plot Insight:\n",
        "Big spikes at lag 1 and 2, then smaller, random noise after.\n",
        "\n",
        "Suggests that AR terms (p) of 1 or 2 might be appropriate."
      ],
      "metadata": {
        "id": "of8bs9KZkmlu"
      }
    },
    {
      "cell_type": "markdown",
      "source": [
        "# **ADF Test to check stationarity**"
      ],
      "metadata": {
        "id": "qXLXhetCH5YG"
      }
    },
    {
      "cell_type": "code",
      "source": [
        "# Augmented Dickey-Fuller test on the oil price data,\n",
        "result = adfuller(data['Price'])\n",
        "\n",
        "# Print the ADF statistic and p-value\n",
        "print(\"ADF Statistic:\", result[0])\n",
        "print(\"p-value:\", result[1])"
      ],
      "metadata": {
        "id": "yrBLBHdqchEq"
      },
      "execution_count": null,
      "outputs": []
    },
    {
      "cell_type": "markdown",
      "source": [
        "The oil price data is non-stationary."
      ],
      "metadata": {
        "id": "Da-h-PveSnpR"
      }
    },
    {
      "cell_type": "markdown",
      "source": [
        "The Augmented Dickey-Fuller (ADF) test on the original oil price data produced an ADF statistic of -1.60 and a p-value of 0.484. Because the p-value is significantly greater than 0.05, we fail to reject the null hypothesis that the series has a unit root. This indicates that the series is non-stationary, consistent with the high autocorrelation observed in the ACF plot.\n",
        "\n",
        "In practical terms, this means the statistical properties of the oil price series (such as the mean and variance) are not constant over time. Therefore, further transformation (such as differencing) is required before fitting an ARMA model."
      ],
      "metadata": {
        "id": "mjaIs4rsSyN4"
      }
    },
    {
      "cell_type": "markdown",
      "source": [
        "# **Make Data Stationary**"
      ],
      "metadata": {
        "id": "fNXhw7TE2u44"
      }
    },
    {
      "cell_type": "markdown",
      "source": [
        "# **Box-Cox Transformation: Find the Optimal Lambda**"
      ],
      "metadata": {
        "id": "BJo_yeIXTBZS"
      }
    },
    {
      "cell_type": "markdown",
      "source": [
        "Why Box-Cox?\n",
        "\n",
        "It stabilizes the variance, which helps ARIMA fit better (especially when prices grow over time).\n",
        "\n",
        "But it doesn’t make it stationary (ADF shows it's still not enough)."
      ],
      "metadata": {
        "id": "GFy48LExk-rF"
      }
    },
    {
      "cell_type": "code",
      "source": [
        "from scipy.stats import boxcox\n",
        "\n",
        "# Find the optimal Box-Cox transformation for the 'Price' column\n",
        "data['boxcox_tr'], lam = boxcox(data['Price'])\n",
        "\n",
        "# Print the optimal lambda\n",
        "print('Optimal Lambda for Box-Cox transformation: %f' % lam)\n"
      ],
      "metadata": {
        "id": "19N_xrHfTSrP"
      },
      "execution_count": null,
      "outputs": []
    },
    {
      "cell_type": "code",
      "source": [
        "def plot_boxcox_transformed(series):\n",
        "    \"\"\"\n",
        "    Plots the Box-Cox transformed time series.\n",
        "\n",
        "    Parameters:\n",
        "    pandas Series, the transformed price data\n",
        "    \"\"\"\n",
        "    plt.figure(dpi=144)\n",
        "    plt.plot(series, label='Box-Cox Transformed Price')\n",
        "    plt.title('Box-Cox Transformed Oil Price Series')\n",
        "    plt.xlabel('Index')\n",
        "    plt.ylabel('Transformed Price')\n",
        "    plt.legend()\n",
        "    plt.tight_layout()\n",
        "    plt.show()\n",
        "    return\n",
        "\n",
        "plot_boxcox_transformed(data['boxcox_tr'])"
      ],
      "metadata": {
        "id": "Tp1RDS8qT7bo"
      },
      "execution_count": null,
      "outputs": []
    },
    {
      "cell_type": "code",
      "source": [
        "# Take the first difference of the Box-Cox transformed oil price series\n",
        "data['boxcox_tr_diff'] = data['boxcox_tr'].diff()\n",
        "data.dropna(inplace=True)  # Remove first NaN\n",
        "# Display the first 10 rows to show the result\n",
        "print(data.head(10))\n"
      ],
      "metadata": {
        "id": "RQPSRkaOU-L8"
      },
      "execution_count": null,
      "outputs": []
    },
    {
      "cell_type": "code",
      "source": [
        "# Plot the first-differenced Box-Cox transformed oil price series\n",
        "plt.figure(dpi=144)\n",
        "plt.plot(data['boxcox_tr_diff'], label='Box-Cox First Difference')\n",
        "plt.title('Box-Cox and First Difference of Oil Price')\n",
        "plt.xlabel('Index')\n",
        "plt.ylabel('Differenced Transformed Price')\n",
        "plt.legend()\n",
        "plt.tight_layout()\n",
        "plt.show()"
      ],
      "metadata": {
        "id": "SDHQMi6mVcXc"
      },
      "execution_count": null,
      "outputs": []
    },
    {
      "cell_type": "markdown",
      "source": [
        "The plot of the first-differenced Box-Cox transformed oil price series shows fluctuations around a constant mean with relatively stable variance, and no visible trend or seasonality. This visual evidence, along with the ADF test result, confirms that the series is now stationary and suitable for ARMA modeling."
      ],
      "metadata": {
        "id": "D05wYleycFui"
      }
    },
    {
      "cell_type": "code",
      "source": [
        "# re-run the ADF test\n",
        "ad_fuller_result = adfuller(data['boxcox_tr_diff'][1:])\n",
        "\n",
        "print(f'ADF Statistic: {ad_fuller_result[0]}')\n",
        "print(f'p-value: {ad_fuller_result[1]}')"
      ],
      "metadata": {
        "id": "wkrQIpbIYtvK"
      },
      "execution_count": null,
      "outputs": []
    },
    {
      "cell_type": "markdown",
      "source": [
        "The Augmented Dickey-Fuller (ADF) test on the Box-Cox transformed and first-differenced oil price series yielded an ADF statistic of -5.24 and a p-value of 0.0000073. Since the p-value is much smaller than 0.05, we reject the null hypothesis of a unit root and conclude that the transformed series is stationary.\n",
        "\n",
        "This means the series now has a constant mean and variance over time, making it suitable for ARMA modeling. This successful result confirms that the combination of Box-Cox transformation and first differencing was effective in achieving stationarity."
      ],
      "metadata": {
        "id": "V_M2eQghWRBy"
      }
    },
    {
      "cell_type": "code",
      "source": [
        "from statsmodels.graphics.tsaplots import plot_acf, plot_pacf\n",
        "import matplotlib.pyplot as plt\n",
        "\n",
        "# Plot ACF\n",
        "plt.figure(figsize=(10, 5), dpi=144)\n",
        "plot_acf(data['boxcox_tr_diff'].dropna())\n",
        "plt.title('ACF of Box-Cox First-Differenced Oil Price')\n",
        "plt.tight_layout()\n",
        "plt.show()\n",
        "\n",
        "# Plot PACF\n",
        "plt.figure(figsize=(10, 5), dpi=144)\n",
        "plot_pacf(data['boxcox_tr_diff'].dropna())\n",
        "plt.title('PACF of Box-Cox First-Differenced Oil Price')\n",
        "plt.tight_layout()\n",
        "plt.show()\n"
      ],
      "metadata": {
        "id": "CfG3zPpIdTho"
      },
      "execution_count": null,
      "outputs": []
    },
    {
      "cell_type": "markdown",
      "source": [
        "The PACF plot of the Box-Cox transformed and first-differenced oil price series shows a significant spike at lag 1, with all other lags within the confidence bounds. This pattern suggests that the series can be well modeled with an autoregressive (AR) component of order 1 (i.e., p = 1) in an ARMA model."
      ],
      "metadata": {
        "id": "TgLnqsNAeQLK"
      }
    },
    {
      "cell_type": "markdown",
      "source": [
        "# **Define ARMA Model and Find Best Parameters**"
      ],
      "metadata": {
        "id": "fob-QeK7274Z"
      }
    },
    {
      "cell_type": "markdown",
      "source": [
        "# **Grid search for best ARIMA(p,d,q) by AIC**"
      ],
      "metadata": {
        "id": "VhSzJwmstBZC"
      }
    },
    {
      "cell_type": "code",
      "source": [
        "from statsmodels.tsa.arima.model import ARIMA\n",
        "from itertools import product\n",
        "\n",
        "# Create all (p, d, q) combinations with:\n",
        "# p = 0 to 8\n",
        "# d = 0, 1, 2\n",
        "# q = 0 to 8\n",
        "p_values = range(0, 9)\n",
        "d_values = [0,1,2]\n",
        "q_values = range(0, 9)\n",
        "order_list = list(product(p_values, d_values, q_values))\n",
        "series = data['Price'].dropna()\n",
        "# Define function to optimize ARIMA\n",
        "def optimize_ARIMA(series, order_list):\n",
        "    results = []\n",
        "    for order in order_list:\n",
        "        try:\n",
        "            model = ARIMA(series, order=order)\n",
        "            fitted = model.fit()\n",
        "            results.append({\n",
        "                'order': order,\n",
        "                'aic': fitted.aic\n",
        "            })\n",
        "            print(f\"Fitted ARIMA{order} - AIC: {fitted.aic:.2f}\")\n",
        "        except Exception as e:\n",
        "            print(f\"Skipping ARIMA{order} due to error: {e}\")\n",
        "    return pd.DataFrame(results).sort_values(by='aic').reset_index(drop=True)\n",
        "\n",
        "# Run optimization\n",
        "result_df = optimize_ARIMA(series, order_list)\n",
        "\n",
        "# Show best models\n",
        "print(\"\\nTop 5 ARIMA models by AIC:\")\n",
        "print(result_df.head())"
      ],
      "metadata": {
        "id": "jMeGxk46sRA4"
      },
      "execution_count": null,
      "outputs": []
    },
    {
      "cell_type": "markdown",
      "source": [
        "# **Fit Best Model**"
      ],
      "metadata": {
        "id": "ExbnX9q43MT8"
      }
    },
    {
      "cell_type": "code",
      "source": [
        "# re-define the best fit model variant.\n",
        "# We do this as the last 'model_fit' recorded will be for the (6,1,7) variant.\n",
        "\n",
        "from statsmodels.tsa.arima.model import ARIMA\n",
        "\n",
        "# Fit the best model as per AIC results\n",
        "best_model = ARIMA(data['Price'].dropna(), order=(6, 1, 7))\n",
        "best_model_fit = best_model.fit()\n"
      ],
      "metadata": {
        "id": "5Hn5wYkWs4BX"
      },
      "execution_count": null,
      "outputs": []
    },
    {
      "cell_type": "code",
      "source": [
        "#summary of the model\n",
        "print(best_model_fit.summary())"
      ],
      "metadata": {
        "id": "ODqrPDHwtA6r"
      },
      "execution_count": null,
      "outputs": []
    },
    {
      "cell_type": "markdown",
      "source": [
        "The fitted ARIMA(6, 1, 7) model is:\n",
        "\n",
        "$$\n",
        "\\begin{align*}\n",
        "y_t' =\\ &0.0672\\, y_{t-1}' + 0.4336\\, y_{t-2}' + 0.0067\\, y_{t-3}' \\\\\n",
        "&+ 0.5884\\, y_{t-4}' - 0.0600\\, y_{t-5}' - 0.7046\\, y_{t-6}' \\\\\n",
        "&- 0.0580\\, \\varepsilon_{t-1} - 0.5069\\, \\varepsilon_{t-2} - 0.0963\\, \\varepsilon_{t-3} \\\\\n",
        "&- 0.5684\\, \\varepsilon_{t-4} + 0.0423\\, \\varepsilon_{t-5} + 0.6392\\, \\varepsilon_{t-6} \\\\\n",
        "&+ 0.1336\\, \\varepsilon_{t-7} + \\varepsilon_t\n",
        "\\end{align*}\n",
        "$$\n"
      ],
      "metadata": {
        "id": "ZMAKKRASvfmh"
      }
    },
    {
      "cell_type": "markdown",
      "source": [
        "So final time series model."
      ],
      "metadata": {
        "id": "QzkSaR3eu-SY"
      }
    },
    {
      "cell_type": "markdown",
      "source": [
        "# **Model Diagnostics Interpretation**"
      ],
      "metadata": {
        "id": "NiW0qPZ3vWsj"
      }
    },
    {
      "cell_type": "code",
      "source": [
        "best_model_fit.plot_diagnostics(figsize=(10,7))\n",
        "plt.show()\n"
      ],
      "metadata": {
        "id": "VgiFNXlxvWWI"
      },
      "execution_count": null,
      "outputs": []
    },
    {
      "cell_type": "code",
      "source": [
        "#get prediction start and end dates\n",
        "test_data = data['Price'].dropna()\n",
        "\n",
        "pred_start_date = test_data.index[0]\n",
        "pred_end_date = test_data.index[-1]\n",
        "\n",
        "#get the predictions and residuals\n",
        "predictions = best_model_fit.predict(start=pred_start_date, end=pred_end_date)\n",
        "residuals = test_data - predictions"
      ],
      "metadata": {
        "id": "broS1VXhLm1j"
      },
      "execution_count": null,
      "outputs": []
    },
    {
      "cell_type": "code",
      "source": [
        "# plot the residuals\n",
        "\n",
        "plt.figure(figsize=(10,4))\n",
        "plt.plot(residuals)\n",
        "plt.title('Residuals from AR Model', fontsize=20)\n",
        "plt.ylabel('Error', fontsize=16)\n",
        "plt.axhline(0, color='r', linestyle='--', alpha=0.2)"
      ],
      "metadata": {
        "id": "AndDy4scLsb8"
      },
      "execution_count": null,
      "outputs": []
    },
    {
      "cell_type": "code",
      "source": [
        "# Plot the model prediction against the data\n",
        "\n",
        "plt.figure(figsize=(10,4))\n",
        "\n",
        "plt.plot(test_data)\n",
        "plt.plot(predictions)\n",
        "\n",
        "plt.legend(('Data', 'Predictions'), fontsize=16)\n",
        "\n",
        "plt.title('ARIMA(6,1,7) model fit', fontsize=20)\n",
        "plt.ylabel('Price', fontsize=16)\n",
        "plt.xlabel('Month', fontsize=16)"
      ],
      "metadata": {
        "id": "XPvWSUtRL0n2"
      },
      "execution_count": null,
      "outputs": []
    },
    {
      "cell_type": "code",
      "source": [
        "import numpy as np\n",
        "\n",
        "# Calculate RMSE (Root Mean Squared Error) of residuals\n",
        "rmse = np.sqrt(np.mean(residuals**2))\n",
        "\n",
        "print(f'Root Mean Squared Error (RMSE): {rmse:.4f}')\n"
      ],
      "metadata": {
        "id": "XcMNzhgZyhBF"
      },
      "execution_count": null,
      "outputs": []
    },
    {
      "cell_type": "markdown",
      "source": [
        "# **Forecast 24 Months Ahead with Confidence Intervals**"
      ],
      "metadata": {
        "id": "yRD8Yudy3k0q"
      }
    },
    {
      "cell_type": "code",
      "source": [
        "n_forecast = 24\n",
        "# Resample daily data to monthly average price\n",
        "monthly_data = data['Price'].resample('M').mean()\n",
        "# Drop missing values if any\n",
        "monthly_data = monthly_data.dropna()\n",
        "# Get forecast with confidence intervals\n",
        "forecast_result = best_model_fit.get_forecast(steps=n_forecast)\n",
        "\n",
        "# Extract forecast mean and confidence intervals\n",
        "forecast_mean = forecast_result.predicted_mean\n",
        "conf_int = forecast_result.conf_int()\n",
        "\n",
        "# Create forecast index starting after last observed month\n",
        "last_date = monthly_data.index[-1]\n",
        "forecast_index = pd.date_range(start=last_date + pd.DateOffset(months=1), periods=n_forecast, freq='M')\n",
        "\n",
        "# Assign index to forecast and confidence intervals\n",
        "forecast_mean.index = forecast_index\n",
        "conf_int.index = forecast_index\n"
      ],
      "metadata": {
        "id": "wo5Zy7KnR0Z5"
      },
      "execution_count": null,
      "outputs": []
    },
    {
      "cell_type": "code",
      "source": [
        "import matplotlib.pyplot as plt\n",
        "\n",
        "plt.figure(figsize=(12, 6), dpi=144)\n",
        "\n",
        "# Plot historical monthly data\n",
        "plt.plot(monthly_data.index, monthly_data, label='Given Monthly Data', color='blue')\n",
        "\n",
        "# Plot forecast\n",
        "plt.plot(forecast_mean.index, forecast_mean, label='24-Month Forecast', color='orange')\n",
        "\n",
        "# Plot confidence intervals as shaded area\n",
        "plt.fill_between(conf_int.index, conf_int.iloc[:, 0], conf_int.iloc[:, 1],\n",
        "                 color='gray', alpha=0.3, label='95% Confidence Interval')\n",
        "\n",
        "plt.title('24-Month Oil Price Forecast with 95% Confidence Interval', fontsize=16)\n",
        "plt.xlabel('Date', fontsize=12)\n",
        "plt.ylabel('Oil Price (USD)', fontsize=12)\n",
        "plt.legend(fontsize=12)\n",
        "plt.grid(True)\n",
        "plt.tight_layout()\n",
        "plt.show()\n"
      ],
      "metadata": {
        "id": "HtTyT0AbR8ZT"
      },
      "execution_count": null,
      "outputs": []
    },
    {
      "cell_type": "code",
      "source": [
        "# Reconstructing conf_df\n",
        "# forecast_mean: pd.Series with forecast values\n",
        "# conf_int: pd.DataFrame with lower/upper confidence intervals\n",
        "\n",
        "conf_df = pd.concat([\n",
        "    forecast_mean,           # predicted values, e.g., from forecast.predicted_mean\n",
        "    conf_int                 # confidence intervals, e.g., from forecast.conf_int()\n",
        "], axis=1)\n",
        "\n",
        "# Rename columns if needed\n",
        "conf_df.columns = ['Predictions', 'Lower CI', 'Upper CI']\n"
      ],
      "metadata": {
        "id": "W6rOiJlsovx2"
      },
      "execution_count": null,
      "outputs": []
    },
    {
      "cell_type": "code",
      "source": [
        "import pandas as pd\n",
        "import matplotlib.pyplot as plt\n",
        "\n",
        "# --- Historical TRAINING data (define this for 'monthly_data') ---\n",
        "train_data = pd.read_csv('/content/drive/MyDrive/Advance Research/Assignment 1/oil_price.csv')\n",
        "train_data['Date'] = pd.to_datetime(train_data['Date'])\n",
        "train_data.set_index('Date', inplace=True)\n",
        "monthly_data = train_data['Price'].resample('ME').mean()\n",
        "\n",
        "# --- Latest ACTUAL data ---\n",
        "actual_data = pd.read_csv('/content/drive/MyDrive/Advance Research/Assignment 1/Oil price data to the current date.csv')\n",
        "actual_data['Date'] = pd.to_datetime(actual_data['Date'])\n",
        "actual_data.set_index('Date', inplace=True)\n",
        "actuals = actual_data['Price'].resample('ME').mean()  # 'ME' fixes the warning\n",
        "\n",
        "# --- Plot forecast vs actual data ---\n",
        "plt.figure(figsize=(10, 6), dpi=144)\n",
        "\n",
        "plt.plot(monthly_data.index, monthly_data.values, label='Given Monthly Data', color='blue')\n",
        "plt.plot(conf_df.index, conf_df['Predictions'], label='24-Month Forecast', color='orange')\n",
        "plt.fill_between(conf_df.index, conf_df['Lower CI'], conf_df['Upper CI'],\n",
        "                 color='gray', alpha=0.3, label='95% Confidence Interval')\n",
        "\n",
        "# Overlap only forecast/actual period\n",
        "common_index = conf_df.index.intersection(actuals.index)\n",
        "plt.plot(actuals.loc[common_index].index, actuals.loc[common_index].values,\n",
        "         label='Current Oil Prices (to date)', color='green', linestyle='--')\n",
        "\n",
        "plt.title('Forecast vs Current Oil Prices (Monthly)', fontsize=16)\n",
        "plt.xlabel('Date', fontsize=14)\n",
        "plt.ylabel('Oil Price (USD)', fontsize=14)\n",
        "plt.grid(True)\n",
        "plt.xticks(fontsize=12)\n",
        "plt.yticks(fontsize=12)\n",
        "plt.tight_layout()\n",
        "plt.legend(fontsize=11)\n",
        "plt.tight_layout()\n",
        "plt.show()\n"
      ],
      "metadata": {
        "id": "YErM5PB8m1zf"
      },
      "execution_count": null,
      "outputs": []
    },
    {
      "cell_type": "markdown",
      "source": [
        "### Forecast vs Real Data (ARMA)\n",
        "\n",
        "The ARMA model predicted a flat oil price trend, while real prices showed more volatility and fluctuations.  \n",
        "Several actual prices fell outside the 95% confidence interval, showing that the model missed unexpected market changes.  \n",
        "This highlights ARIMA's limitation in capturing non-linear,real-world dynamics despite statistical soundness.  \n",
        "Better performance may require advanced models like LSTM that adapt to complex patterns.\n"
      ],
      "metadata": {
        "id": "RXcZIRlH4wJ7"
      }
    }
  ]
}