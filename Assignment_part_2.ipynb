{
  "cells": [
    {
      "cell_type": "markdown",
      "metadata": {
        "id": "view-in-github",
        "colab_type": "text"
      },
      "source": [
        "<a href=\"https://colab.research.google.com/github/Rabia-Akhtr/Time-Series-Modelling-Case-Study/blob/main/Assignment_part_2.ipynb\" target=\"_parent\"><img src=\"https://colab.research.google.com/assets/colab-badge.svg\" alt=\"Open In Colab\"/></a>"
      ]
    },
    {
      "cell_type": "markdown",
      "metadata": {
        "id": "zOi7kU7BE4wy"
      },
      "source": [
        "# A case study on modelling some real data, finding the best model to describe the data, then making a forecast.\n",
        "\n",
        "I will use the Oil prices data.\n"
      ]
    },
    {
      "cell_type": "code",
      "source": [
        "from google.colab import drive\n",
        "drive.mount('/content/drive')"
      ],
      "metadata": {
        "colab": {
          "base_uri": "https://localhost:8080/"
        },
        "id": "SkTGEklmE-6q",
        "outputId": "2f91776f-94a5-451b-f170-90fd1fc5bebc"
      },
      "execution_count": 1,
      "outputs": [
        {
          "output_type": "stream",
          "name": "stdout",
          "text": [
            "Mounted at /content/drive\n"
          ]
        }
      ]
    },
    {
      "cell_type": "code",
      "execution_count": 2,
      "metadata": {
        "id": "bZaAwUrg7VTg"
      },
      "outputs": [],
      "source": [
        "# Data manipulation\n",
        "import numpy as np\n",
        "import pandas as pd\n",
        "\n",
        "# Plotting\n",
        "import matplotlib.pyplot as plt\n",
        "\n",
        "# Machine learning\n",
        "from sklearn.preprocessing import MinMaxScaler\n",
        "from sklearn.metrics import mean_squared_error, mean_absolute_error\n",
        "\n",
        "# Deep learning\n",
        "import tensorflow as tf\n",
        "from tensorflow.keras.models import Sequential\n",
        "from tensorflow.keras.layers import LSTM, Dense, Dropout\n",
        "from tensorflow.keras.callbacks import EarlyStopping\n",
        "\n",
        "# System\n",
        "import warnings\n",
        "warnings.filterwarnings(\"ignore\")\n",
        "\n",
        "# Fix random seeds for reproducibility\n",
        "np.random.seed(42)\n",
        "tf.random.set_seed(42)"
      ]
    },
    {
      "cell_type": "code",
      "execution_count": 3,
      "metadata": {
        "colab": {
          "base_uri": "https://localhost:8080/",
          "height": 237
        },
        "id": "mA10X4UgE4w4",
        "outputId": "57c952cd-84bd-46d7-d898-dec55de6f619"
      },
      "outputs": [
        {
          "output_type": "execute_result",
          "data": {
            "text/plain": [
              "            Price\n",
              "Date             \n",
              "2020-07-01  42.18\n",
              "2020-07-02  43.19\n",
              "2020-07-03  42.92\n",
              "2020-07-06  42.73\n",
              "2020-07-07  43.28"
            ],
            "text/html": [
              "\n",
              "  <div id=\"df-42f0b435-5f02-4d7b-b8f9-d5e265741c88\" class=\"colab-df-container\">\n",
              "    <div>\n",
              "<style scoped>\n",
              "    .dataframe tbody tr th:only-of-type {\n",
              "        vertical-align: middle;\n",
              "    }\n",
              "\n",
              "    .dataframe tbody tr th {\n",
              "        vertical-align: top;\n",
              "    }\n",
              "\n",
              "    .dataframe thead th {\n",
              "        text-align: right;\n",
              "    }\n",
              "</style>\n",
              "<table border=\"1\" class=\"dataframe\">\n",
              "  <thead>\n",
              "    <tr style=\"text-align: right;\">\n",
              "      <th></th>\n",
              "      <th>Price</th>\n",
              "    </tr>\n",
              "    <tr>\n",
              "      <th>Date</th>\n",
              "      <th></th>\n",
              "    </tr>\n",
              "  </thead>\n",
              "  <tbody>\n",
              "    <tr>\n",
              "      <th>2020-07-01</th>\n",
              "      <td>42.18</td>\n",
              "    </tr>\n",
              "    <tr>\n",
              "      <th>2020-07-02</th>\n",
              "      <td>43.19</td>\n",
              "    </tr>\n",
              "    <tr>\n",
              "      <th>2020-07-03</th>\n",
              "      <td>42.92</td>\n",
              "    </tr>\n",
              "    <tr>\n",
              "      <th>2020-07-06</th>\n",
              "      <td>42.73</td>\n",
              "    </tr>\n",
              "    <tr>\n",
              "      <th>2020-07-07</th>\n",
              "      <td>43.28</td>\n",
              "    </tr>\n",
              "  </tbody>\n",
              "</table>\n",
              "</div>\n",
              "    <div class=\"colab-df-buttons\">\n",
              "\n",
              "  <div class=\"colab-df-container\">\n",
              "    <button class=\"colab-df-convert\" onclick=\"convertToInteractive('df-42f0b435-5f02-4d7b-b8f9-d5e265741c88')\"\n",
              "            title=\"Convert this dataframe to an interactive table.\"\n",
              "            style=\"display:none;\">\n",
              "\n",
              "  <svg xmlns=\"http://www.w3.org/2000/svg\" height=\"24px\" viewBox=\"0 -960 960 960\">\n",
              "    <path d=\"M120-120v-720h720v720H120Zm60-500h600v-160H180v160Zm220 220h160v-160H400v160Zm0 220h160v-160H400v160ZM180-400h160v-160H180v160Zm440 0h160v-160H620v160ZM180-180h160v-160H180v160Zm440 0h160v-160H620v160Z\"/>\n",
              "  </svg>\n",
              "    </button>\n",
              "\n",
              "  <style>\n",
              "    .colab-df-container {\n",
              "      display:flex;\n",
              "      gap: 12px;\n",
              "    }\n",
              "\n",
              "    .colab-df-convert {\n",
              "      background-color: #E8F0FE;\n",
              "      border: none;\n",
              "      border-radius: 50%;\n",
              "      cursor: pointer;\n",
              "      display: none;\n",
              "      fill: #1967D2;\n",
              "      height: 32px;\n",
              "      padding: 0 0 0 0;\n",
              "      width: 32px;\n",
              "    }\n",
              "\n",
              "    .colab-df-convert:hover {\n",
              "      background-color: #E2EBFA;\n",
              "      box-shadow: 0px 1px 2px rgba(60, 64, 67, 0.3), 0px 1px 3px 1px rgba(60, 64, 67, 0.15);\n",
              "      fill: #174EA6;\n",
              "    }\n",
              "\n",
              "    .colab-df-buttons div {\n",
              "      margin-bottom: 4px;\n",
              "    }\n",
              "\n",
              "    [theme=dark] .colab-df-convert {\n",
              "      background-color: #3B4455;\n",
              "      fill: #D2E3FC;\n",
              "    }\n",
              "\n",
              "    [theme=dark] .colab-df-convert:hover {\n",
              "      background-color: #434B5C;\n",
              "      box-shadow: 0px 1px 3px 1px rgba(0, 0, 0, 0.15);\n",
              "      filter: drop-shadow(0px 1px 2px rgba(0, 0, 0, 0.3));\n",
              "      fill: #FFFFFF;\n",
              "    }\n",
              "  </style>\n",
              "\n",
              "    <script>\n",
              "      const buttonEl =\n",
              "        document.querySelector('#df-42f0b435-5f02-4d7b-b8f9-d5e265741c88 button.colab-df-convert');\n",
              "      buttonEl.style.display =\n",
              "        google.colab.kernel.accessAllowed ? 'block' : 'none';\n",
              "\n",
              "      async function convertToInteractive(key) {\n",
              "        const element = document.querySelector('#df-42f0b435-5f02-4d7b-b8f9-d5e265741c88');\n",
              "        const dataTable =\n",
              "          await google.colab.kernel.invokeFunction('convertToInteractive',\n",
              "                                                    [key], {});\n",
              "        if (!dataTable) return;\n",
              "\n",
              "        const docLinkHtml = 'Like what you see? Visit the ' +\n",
              "          '<a target=\"_blank\" href=https://colab.research.google.com/notebooks/data_table.ipynb>data table notebook</a>'\n",
              "          + ' to learn more about interactive tables.';\n",
              "        element.innerHTML = '';\n",
              "        dataTable['output_type'] = 'display_data';\n",
              "        await google.colab.output.renderOutput(dataTable, element);\n",
              "        const docLink = document.createElement('div');\n",
              "        docLink.innerHTML = docLinkHtml;\n",
              "        element.appendChild(docLink);\n",
              "      }\n",
              "    </script>\n",
              "  </div>\n",
              "\n",
              "\n",
              "    <div id=\"df-c266efda-170b-4cb6-be62-1181191d0395\">\n",
              "      <button class=\"colab-df-quickchart\" onclick=\"quickchart('df-c266efda-170b-4cb6-be62-1181191d0395')\"\n",
              "                title=\"Suggest charts\"\n",
              "                style=\"display:none;\">\n",
              "\n",
              "<svg xmlns=\"http://www.w3.org/2000/svg\" height=\"24px\"viewBox=\"0 0 24 24\"\n",
              "     width=\"24px\">\n",
              "    <g>\n",
              "        <path d=\"M19 3H5c-1.1 0-2 .9-2 2v14c0 1.1.9 2 2 2h14c1.1 0 2-.9 2-2V5c0-1.1-.9-2-2-2zM9 17H7v-7h2v7zm4 0h-2V7h2v10zm4 0h-2v-4h2v4z\"/>\n",
              "    </g>\n",
              "</svg>\n",
              "      </button>\n",
              "\n",
              "<style>\n",
              "  .colab-df-quickchart {\n",
              "      --bg-color: #E8F0FE;\n",
              "      --fill-color: #1967D2;\n",
              "      --hover-bg-color: #E2EBFA;\n",
              "      --hover-fill-color: #174EA6;\n",
              "      --disabled-fill-color: #AAA;\n",
              "      --disabled-bg-color: #DDD;\n",
              "  }\n",
              "\n",
              "  [theme=dark] .colab-df-quickchart {\n",
              "      --bg-color: #3B4455;\n",
              "      --fill-color: #D2E3FC;\n",
              "      --hover-bg-color: #434B5C;\n",
              "      --hover-fill-color: #FFFFFF;\n",
              "      --disabled-bg-color: #3B4455;\n",
              "      --disabled-fill-color: #666;\n",
              "  }\n",
              "\n",
              "  .colab-df-quickchart {\n",
              "    background-color: var(--bg-color);\n",
              "    border: none;\n",
              "    border-radius: 50%;\n",
              "    cursor: pointer;\n",
              "    display: none;\n",
              "    fill: var(--fill-color);\n",
              "    height: 32px;\n",
              "    padding: 0;\n",
              "    width: 32px;\n",
              "  }\n",
              "\n",
              "  .colab-df-quickchart:hover {\n",
              "    background-color: var(--hover-bg-color);\n",
              "    box-shadow: 0 1px 2px rgba(60, 64, 67, 0.3), 0 1px 3px 1px rgba(60, 64, 67, 0.15);\n",
              "    fill: var(--button-hover-fill-color);\n",
              "  }\n",
              "\n",
              "  .colab-df-quickchart-complete:disabled,\n",
              "  .colab-df-quickchart-complete:disabled:hover {\n",
              "    background-color: var(--disabled-bg-color);\n",
              "    fill: var(--disabled-fill-color);\n",
              "    box-shadow: none;\n",
              "  }\n",
              "\n",
              "  .colab-df-spinner {\n",
              "    border: 2px solid var(--fill-color);\n",
              "    border-color: transparent;\n",
              "    border-bottom-color: var(--fill-color);\n",
              "    animation:\n",
              "      spin 1s steps(1) infinite;\n",
              "  }\n",
              "\n",
              "  @keyframes spin {\n",
              "    0% {\n",
              "      border-color: transparent;\n",
              "      border-bottom-color: var(--fill-color);\n",
              "      border-left-color: var(--fill-color);\n",
              "    }\n",
              "    20% {\n",
              "      border-color: transparent;\n",
              "      border-left-color: var(--fill-color);\n",
              "      border-top-color: var(--fill-color);\n",
              "    }\n",
              "    30% {\n",
              "      border-color: transparent;\n",
              "      border-left-color: var(--fill-color);\n",
              "      border-top-color: var(--fill-color);\n",
              "      border-right-color: var(--fill-color);\n",
              "    }\n",
              "    40% {\n",
              "      border-color: transparent;\n",
              "      border-right-color: var(--fill-color);\n",
              "      border-top-color: var(--fill-color);\n",
              "    }\n",
              "    60% {\n",
              "      border-color: transparent;\n",
              "      border-right-color: var(--fill-color);\n",
              "    }\n",
              "    80% {\n",
              "      border-color: transparent;\n",
              "      border-right-color: var(--fill-color);\n",
              "      border-bottom-color: var(--fill-color);\n",
              "    }\n",
              "    90% {\n",
              "      border-color: transparent;\n",
              "      border-bottom-color: var(--fill-color);\n",
              "    }\n",
              "  }\n",
              "</style>\n",
              "\n",
              "      <script>\n",
              "        async function quickchart(key) {\n",
              "          const quickchartButtonEl =\n",
              "            document.querySelector('#' + key + ' button');\n",
              "          quickchartButtonEl.disabled = true;  // To prevent multiple clicks.\n",
              "          quickchartButtonEl.classList.add('colab-df-spinner');\n",
              "          try {\n",
              "            const charts = await google.colab.kernel.invokeFunction(\n",
              "                'suggestCharts', [key], {});\n",
              "          } catch (error) {\n",
              "            console.error('Error during call to suggestCharts:', error);\n",
              "          }\n",
              "          quickchartButtonEl.classList.remove('colab-df-spinner');\n",
              "          quickchartButtonEl.classList.add('colab-df-quickchart-complete');\n",
              "        }\n",
              "        (() => {\n",
              "          let quickchartButtonEl =\n",
              "            document.querySelector('#df-c266efda-170b-4cb6-be62-1181191d0395 button');\n",
              "          quickchartButtonEl.style.display =\n",
              "            google.colab.kernel.accessAllowed ? 'block' : 'none';\n",
              "        })();\n",
              "      </script>\n",
              "    </div>\n",
              "\n",
              "    </div>\n",
              "  </div>\n"
            ],
            "application/vnd.google.colaboratory.intrinsic+json": {
              "type": "dataframe",
              "variable_name": "data",
              "summary": "{\n  \"name\": \"data\",\n  \"rows\": 1230,\n  \"fields\": [\n    {\n      \"column\": \"Date\",\n      \"properties\": {\n        \"dtype\": \"date\",\n        \"min\": \"2020-07-01 00:00:00\",\n        \"max\": \"2022-12-30 00:00:00\",\n        \"num_unique_values\": 635,\n        \"samples\": [\n          \"2022-07-22 00:00:00\",\n          \"2021-06-25 00:00:00\",\n          \"2022-03-07 00:00:00\"\n        ],\n        \"semantic_type\": \"\",\n        \"description\": \"\"\n      }\n    },\n    {\n      \"column\": \"Price\",\n      \"properties\": {\n        \"dtype\": \"number\",\n        \"std\": 23.898162111807128,\n        \"min\": 36.33,\n        \"max\": 133.18,\n        \"num_unique_values\": 610,\n        \"samples\": [\n          39.72,\n          66.88,\n          42.16\n        ],\n        \"semantic_type\": \"\",\n        \"description\": \"\"\n      }\n    }\n  ]\n}"
            }
          },
          "metadata": {},
          "execution_count": 3
        }
      ],
      "source": [
        "# Read in the data and check its OK\n",
        "\n",
        "data = pd.read_csv('/content/drive/MyDrive/Advance Research/Assignment 1/oil_price.csv', parse_dates=['Date'])\n",
        "data.set_index('Date', inplace=True)\n",
        "data.head()"
      ]
    },
    {
      "cell_type": "code",
      "source": [
        "data.tail()"
      ],
      "metadata": {
        "colab": {
          "base_uri": "https://localhost:8080/",
          "height": 237
        },
        "id": "OffSq3Ca7jBC",
        "outputId": "fe27288b-bef4-4daa-a207-c5850aa49e14"
      },
      "execution_count": 4,
      "outputs": [
        {
          "output_type": "execute_result",
          "data": {
            "text/plain": [
              "      Price\n",
              "Date       \n",
              "NaT     NaN\n",
              "NaT     NaN\n",
              "NaT     NaN\n",
              "NaT     NaN\n",
              "NaT     NaN"
            ],
            "text/html": [
              "\n",
              "  <div id=\"df-a446740b-eb19-4e9d-8d9d-f8a39599c17d\" class=\"colab-df-container\">\n",
              "    <div>\n",
              "<style scoped>\n",
              "    .dataframe tbody tr th:only-of-type {\n",
              "        vertical-align: middle;\n",
              "    }\n",
              "\n",
              "    .dataframe tbody tr th {\n",
              "        vertical-align: top;\n",
              "    }\n",
              "\n",
              "    .dataframe thead th {\n",
              "        text-align: right;\n",
              "    }\n",
              "</style>\n",
              "<table border=\"1\" class=\"dataframe\">\n",
              "  <thead>\n",
              "    <tr style=\"text-align: right;\">\n",
              "      <th></th>\n",
              "      <th>Price</th>\n",
              "    </tr>\n",
              "    <tr>\n",
              "      <th>Date</th>\n",
              "      <th></th>\n",
              "    </tr>\n",
              "  </thead>\n",
              "  <tbody>\n",
              "    <tr>\n",
              "      <th>NaT</th>\n",
              "      <td>NaN</td>\n",
              "    </tr>\n",
              "    <tr>\n",
              "      <th>NaT</th>\n",
              "      <td>NaN</td>\n",
              "    </tr>\n",
              "    <tr>\n",
              "      <th>NaT</th>\n",
              "      <td>NaN</td>\n",
              "    </tr>\n",
              "    <tr>\n",
              "      <th>NaT</th>\n",
              "      <td>NaN</td>\n",
              "    </tr>\n",
              "    <tr>\n",
              "      <th>NaT</th>\n",
              "      <td>NaN</td>\n",
              "    </tr>\n",
              "  </tbody>\n",
              "</table>\n",
              "</div>\n",
              "    <div class=\"colab-df-buttons\">\n",
              "\n",
              "  <div class=\"colab-df-container\">\n",
              "    <button class=\"colab-df-convert\" onclick=\"convertToInteractive('df-a446740b-eb19-4e9d-8d9d-f8a39599c17d')\"\n",
              "            title=\"Convert this dataframe to an interactive table.\"\n",
              "            style=\"display:none;\">\n",
              "\n",
              "  <svg xmlns=\"http://www.w3.org/2000/svg\" height=\"24px\" viewBox=\"0 -960 960 960\">\n",
              "    <path d=\"M120-120v-720h720v720H120Zm60-500h600v-160H180v160Zm220 220h160v-160H400v160Zm0 220h160v-160H400v160ZM180-400h160v-160H180v160Zm440 0h160v-160H620v160ZM180-180h160v-160H180v160Zm440 0h160v-160H620v160Z\"/>\n",
              "  </svg>\n",
              "    </button>\n",
              "\n",
              "  <style>\n",
              "    .colab-df-container {\n",
              "      display:flex;\n",
              "      gap: 12px;\n",
              "    }\n",
              "\n",
              "    .colab-df-convert {\n",
              "      background-color: #E8F0FE;\n",
              "      border: none;\n",
              "      border-radius: 50%;\n",
              "      cursor: pointer;\n",
              "      display: none;\n",
              "      fill: #1967D2;\n",
              "      height: 32px;\n",
              "      padding: 0 0 0 0;\n",
              "      width: 32px;\n",
              "    }\n",
              "\n",
              "    .colab-df-convert:hover {\n",
              "      background-color: #E2EBFA;\n",
              "      box-shadow: 0px 1px 2px rgba(60, 64, 67, 0.3), 0px 1px 3px 1px rgba(60, 64, 67, 0.15);\n",
              "      fill: #174EA6;\n",
              "    }\n",
              "\n",
              "    .colab-df-buttons div {\n",
              "      margin-bottom: 4px;\n",
              "    }\n",
              "\n",
              "    [theme=dark] .colab-df-convert {\n",
              "      background-color: #3B4455;\n",
              "      fill: #D2E3FC;\n",
              "    }\n",
              "\n",
              "    [theme=dark] .colab-df-convert:hover {\n",
              "      background-color: #434B5C;\n",
              "      box-shadow: 0px 1px 3px 1px rgba(0, 0, 0, 0.15);\n",
              "      filter: drop-shadow(0px 1px 2px rgba(0, 0, 0, 0.3));\n",
              "      fill: #FFFFFF;\n",
              "    }\n",
              "  </style>\n",
              "\n",
              "    <script>\n",
              "      const buttonEl =\n",
              "        document.querySelector('#df-a446740b-eb19-4e9d-8d9d-f8a39599c17d button.colab-df-convert');\n",
              "      buttonEl.style.display =\n",
              "        google.colab.kernel.accessAllowed ? 'block' : 'none';\n",
              "\n",
              "      async function convertToInteractive(key) {\n",
              "        const element = document.querySelector('#df-a446740b-eb19-4e9d-8d9d-f8a39599c17d');\n",
              "        const dataTable =\n",
              "          await google.colab.kernel.invokeFunction('convertToInteractive',\n",
              "                                                    [key], {});\n",
              "        if (!dataTable) return;\n",
              "\n",
              "        const docLinkHtml = 'Like what you see? Visit the ' +\n",
              "          '<a target=\"_blank\" href=https://colab.research.google.com/notebooks/data_table.ipynb>data table notebook</a>'\n",
              "          + ' to learn more about interactive tables.';\n",
              "        element.innerHTML = '';\n",
              "        dataTable['output_type'] = 'display_data';\n",
              "        await google.colab.output.renderOutput(dataTable, element);\n",
              "        const docLink = document.createElement('div');\n",
              "        docLink.innerHTML = docLinkHtml;\n",
              "        element.appendChild(docLink);\n",
              "      }\n",
              "    </script>\n",
              "  </div>\n",
              "\n",
              "\n",
              "    <div id=\"df-ed482f54-7f5c-4fc8-8c96-f3e94a39ee2f\">\n",
              "      <button class=\"colab-df-quickchart\" onclick=\"quickchart('df-ed482f54-7f5c-4fc8-8c96-f3e94a39ee2f')\"\n",
              "                title=\"Suggest charts\"\n",
              "                style=\"display:none;\">\n",
              "\n",
              "<svg xmlns=\"http://www.w3.org/2000/svg\" height=\"24px\"viewBox=\"0 0 24 24\"\n",
              "     width=\"24px\">\n",
              "    <g>\n",
              "        <path d=\"M19 3H5c-1.1 0-2 .9-2 2v14c0 1.1.9 2 2 2h14c1.1 0 2-.9 2-2V5c0-1.1-.9-2-2-2zM9 17H7v-7h2v7zm4 0h-2V7h2v10zm4 0h-2v-4h2v4z\"/>\n",
              "    </g>\n",
              "</svg>\n",
              "      </button>\n",
              "\n",
              "<style>\n",
              "  .colab-df-quickchart {\n",
              "      --bg-color: #E8F0FE;\n",
              "      --fill-color: #1967D2;\n",
              "      --hover-bg-color: #E2EBFA;\n",
              "      --hover-fill-color: #174EA6;\n",
              "      --disabled-fill-color: #AAA;\n",
              "      --disabled-bg-color: #DDD;\n",
              "  }\n",
              "\n",
              "  [theme=dark] .colab-df-quickchart {\n",
              "      --bg-color: #3B4455;\n",
              "      --fill-color: #D2E3FC;\n",
              "      --hover-bg-color: #434B5C;\n",
              "      --hover-fill-color: #FFFFFF;\n",
              "      --disabled-bg-color: #3B4455;\n",
              "      --disabled-fill-color: #666;\n",
              "  }\n",
              "\n",
              "  .colab-df-quickchart {\n",
              "    background-color: var(--bg-color);\n",
              "    border: none;\n",
              "    border-radius: 50%;\n",
              "    cursor: pointer;\n",
              "    display: none;\n",
              "    fill: var(--fill-color);\n",
              "    height: 32px;\n",
              "    padding: 0;\n",
              "    width: 32px;\n",
              "  }\n",
              "\n",
              "  .colab-df-quickchart:hover {\n",
              "    background-color: var(--hover-bg-color);\n",
              "    box-shadow: 0 1px 2px rgba(60, 64, 67, 0.3), 0 1px 3px 1px rgba(60, 64, 67, 0.15);\n",
              "    fill: var(--button-hover-fill-color);\n",
              "  }\n",
              "\n",
              "  .colab-df-quickchart-complete:disabled,\n",
              "  .colab-df-quickchart-complete:disabled:hover {\n",
              "    background-color: var(--disabled-bg-color);\n",
              "    fill: var(--disabled-fill-color);\n",
              "    box-shadow: none;\n",
              "  }\n",
              "\n",
              "  .colab-df-spinner {\n",
              "    border: 2px solid var(--fill-color);\n",
              "    border-color: transparent;\n",
              "    border-bottom-color: var(--fill-color);\n",
              "    animation:\n",
              "      spin 1s steps(1) infinite;\n",
              "  }\n",
              "\n",
              "  @keyframes spin {\n",
              "    0% {\n",
              "      border-color: transparent;\n",
              "      border-bottom-color: var(--fill-color);\n",
              "      border-left-color: var(--fill-color);\n",
              "    }\n",
              "    20% {\n",
              "      border-color: transparent;\n",
              "      border-left-color: var(--fill-color);\n",
              "      border-top-color: var(--fill-color);\n",
              "    }\n",
              "    30% {\n",
              "      border-color: transparent;\n",
              "      border-left-color: var(--fill-color);\n",
              "      border-top-color: var(--fill-color);\n",
              "      border-right-color: var(--fill-color);\n",
              "    }\n",
              "    40% {\n",
              "      border-color: transparent;\n",
              "      border-right-color: var(--fill-color);\n",
              "      border-top-color: var(--fill-color);\n",
              "    }\n",
              "    60% {\n",
              "      border-color: transparent;\n",
              "      border-right-color: var(--fill-color);\n",
              "    }\n",
              "    80% {\n",
              "      border-color: transparent;\n",
              "      border-right-color: var(--fill-color);\n",
              "      border-bottom-color: var(--fill-color);\n",
              "    }\n",
              "    90% {\n",
              "      border-color: transparent;\n",
              "      border-bottom-color: var(--fill-color);\n",
              "    }\n",
              "  }\n",
              "</style>\n",
              "\n",
              "      <script>\n",
              "        async function quickchart(key) {\n",
              "          const quickchartButtonEl =\n",
              "            document.querySelector('#' + key + ' button');\n",
              "          quickchartButtonEl.disabled = true;  // To prevent multiple clicks.\n",
              "          quickchartButtonEl.classList.add('colab-df-spinner');\n",
              "          try {\n",
              "            const charts = await google.colab.kernel.invokeFunction(\n",
              "                'suggestCharts', [key], {});\n",
              "          } catch (error) {\n",
              "            console.error('Error during call to suggestCharts:', error);\n",
              "          }\n",
              "          quickchartButtonEl.classList.remove('colab-df-spinner');\n",
              "          quickchartButtonEl.classList.add('colab-df-quickchart-complete');\n",
              "        }\n",
              "        (() => {\n",
              "          let quickchartButtonEl =\n",
              "            document.querySelector('#df-ed482f54-7f5c-4fc8-8c96-f3e94a39ee2f button');\n",
              "          quickchartButtonEl.style.display =\n",
              "            google.colab.kernel.accessAllowed ? 'block' : 'none';\n",
              "        })();\n",
              "      </script>\n",
              "    </div>\n",
              "\n",
              "    </div>\n",
              "  </div>\n"
            ],
            "application/vnd.google.colaboratory.intrinsic+json": {
              "type": "dataframe",
              "summary": "{\n  \"name\": \"data\",\n  \"rows\": 5,\n  \"fields\": [\n    {\n      \"column\": \"Date\",\n      \"properties\": {\n        \"dtype\": \"date\",\n        \"min\": \"NaT\",\n        \"max\": \"NaT\",\n        \"num_unique_values\": 0,\n        \"samples\": [],\n        \"semantic_type\": \"\",\n        \"description\": \"\"\n      }\n    },\n    {\n      \"column\": \"Price\",\n      \"properties\": {\n        \"dtype\": \"number\",\n        \"std\": null,\n        \"min\": null,\n        \"max\": null,\n        \"num_unique_values\": 0,\n        \"samples\": [],\n        \"semantic_type\": \"\",\n        \"description\": \"\"\n      }\n    }\n  ]\n}"
            }
          },
          "metadata": {},
          "execution_count": 4
        }
      ]
    },
    {
      "cell_type": "code",
      "source": [
        "data = data.dropna()"
      ],
      "metadata": {
        "id": "yI47ugxs7kKd"
      },
      "execution_count": 5,
      "outputs": []
    },
    {
      "cell_type": "code",
      "source": [
        "# Read data\n",
        "pd.concat([data.head(), data.tail()])"
      ],
      "metadata": {
        "colab": {
          "base_uri": "https://localhost:8080/",
          "height": 394
        },
        "id": "khnGX5Mk7tXi",
        "outputId": "0b746914-338e-46fd-f939-1c2d64c6758d"
      },
      "execution_count": 6,
      "outputs": [
        {
          "output_type": "execute_result",
          "data": {
            "text/plain": [
              "            Price\n",
              "Date             \n",
              "2020-07-01  42.18\n",
              "2020-07-02  43.19\n",
              "2020-07-03  42.92\n",
              "2020-07-06  42.73\n",
              "2020-07-07  43.28\n",
              "2022-12-22  79.58\n",
              "2022-12-23  82.45\n",
              "2022-12-28  81.70\n",
              "2022-12-29  80.96\n",
              "2022-12-30  82.82"
            ],
            "text/html": [
              "\n",
              "  <div id=\"df-e7db7599-bc0e-4974-8859-6b5196ad9c85\" class=\"colab-df-container\">\n",
              "    <div>\n",
              "<style scoped>\n",
              "    .dataframe tbody tr th:only-of-type {\n",
              "        vertical-align: middle;\n",
              "    }\n",
              "\n",
              "    .dataframe tbody tr th {\n",
              "        vertical-align: top;\n",
              "    }\n",
              "\n",
              "    .dataframe thead th {\n",
              "        text-align: right;\n",
              "    }\n",
              "</style>\n",
              "<table border=\"1\" class=\"dataframe\">\n",
              "  <thead>\n",
              "    <tr style=\"text-align: right;\">\n",
              "      <th></th>\n",
              "      <th>Price</th>\n",
              "    </tr>\n",
              "    <tr>\n",
              "      <th>Date</th>\n",
              "      <th></th>\n",
              "    </tr>\n",
              "  </thead>\n",
              "  <tbody>\n",
              "    <tr>\n",
              "      <th>2020-07-01</th>\n",
              "      <td>42.18</td>\n",
              "    </tr>\n",
              "    <tr>\n",
              "      <th>2020-07-02</th>\n",
              "      <td>43.19</td>\n",
              "    </tr>\n",
              "    <tr>\n",
              "      <th>2020-07-03</th>\n",
              "      <td>42.92</td>\n",
              "    </tr>\n",
              "    <tr>\n",
              "      <th>2020-07-06</th>\n",
              "      <td>42.73</td>\n",
              "    </tr>\n",
              "    <tr>\n",
              "      <th>2020-07-07</th>\n",
              "      <td>43.28</td>\n",
              "    </tr>\n",
              "    <tr>\n",
              "      <th>2022-12-22</th>\n",
              "      <td>79.58</td>\n",
              "    </tr>\n",
              "    <tr>\n",
              "      <th>2022-12-23</th>\n",
              "      <td>82.45</td>\n",
              "    </tr>\n",
              "    <tr>\n",
              "      <th>2022-12-28</th>\n",
              "      <td>81.70</td>\n",
              "    </tr>\n",
              "    <tr>\n",
              "      <th>2022-12-29</th>\n",
              "      <td>80.96</td>\n",
              "    </tr>\n",
              "    <tr>\n",
              "      <th>2022-12-30</th>\n",
              "      <td>82.82</td>\n",
              "    </tr>\n",
              "  </tbody>\n",
              "</table>\n",
              "</div>\n",
              "    <div class=\"colab-df-buttons\">\n",
              "\n",
              "  <div class=\"colab-df-container\">\n",
              "    <button class=\"colab-df-convert\" onclick=\"convertToInteractive('df-e7db7599-bc0e-4974-8859-6b5196ad9c85')\"\n",
              "            title=\"Convert this dataframe to an interactive table.\"\n",
              "            style=\"display:none;\">\n",
              "\n",
              "  <svg xmlns=\"http://www.w3.org/2000/svg\" height=\"24px\" viewBox=\"0 -960 960 960\">\n",
              "    <path d=\"M120-120v-720h720v720H120Zm60-500h600v-160H180v160Zm220 220h160v-160H400v160Zm0 220h160v-160H400v160ZM180-400h160v-160H180v160Zm440 0h160v-160H620v160ZM180-180h160v-160H180v160Zm440 0h160v-160H620v160Z\"/>\n",
              "  </svg>\n",
              "    </button>\n",
              "\n",
              "  <style>\n",
              "    .colab-df-container {\n",
              "      display:flex;\n",
              "      gap: 12px;\n",
              "    }\n",
              "\n",
              "    .colab-df-convert {\n",
              "      background-color: #E8F0FE;\n",
              "      border: none;\n",
              "      border-radius: 50%;\n",
              "      cursor: pointer;\n",
              "      display: none;\n",
              "      fill: #1967D2;\n",
              "      height: 32px;\n",
              "      padding: 0 0 0 0;\n",
              "      width: 32px;\n",
              "    }\n",
              "\n",
              "    .colab-df-convert:hover {\n",
              "      background-color: #E2EBFA;\n",
              "      box-shadow: 0px 1px 2px rgba(60, 64, 67, 0.3), 0px 1px 3px 1px rgba(60, 64, 67, 0.15);\n",
              "      fill: #174EA6;\n",
              "    }\n",
              "\n",
              "    .colab-df-buttons div {\n",
              "      margin-bottom: 4px;\n",
              "    }\n",
              "\n",
              "    [theme=dark] .colab-df-convert {\n",
              "      background-color: #3B4455;\n",
              "      fill: #D2E3FC;\n",
              "    }\n",
              "\n",
              "    [theme=dark] .colab-df-convert:hover {\n",
              "      background-color: #434B5C;\n",
              "      box-shadow: 0px 1px 3px 1px rgba(0, 0, 0, 0.15);\n",
              "      filter: drop-shadow(0px 1px 2px rgba(0, 0, 0, 0.3));\n",
              "      fill: #FFFFFF;\n",
              "    }\n",
              "  </style>\n",
              "\n",
              "    <script>\n",
              "      const buttonEl =\n",
              "        document.querySelector('#df-e7db7599-bc0e-4974-8859-6b5196ad9c85 button.colab-df-convert');\n",
              "      buttonEl.style.display =\n",
              "        google.colab.kernel.accessAllowed ? 'block' : 'none';\n",
              "\n",
              "      async function convertToInteractive(key) {\n",
              "        const element = document.querySelector('#df-e7db7599-bc0e-4974-8859-6b5196ad9c85');\n",
              "        const dataTable =\n",
              "          await google.colab.kernel.invokeFunction('convertToInteractive',\n",
              "                                                    [key], {});\n",
              "        if (!dataTable) return;\n",
              "\n",
              "        const docLinkHtml = 'Like what you see? Visit the ' +\n",
              "          '<a target=\"_blank\" href=https://colab.research.google.com/notebooks/data_table.ipynb>data table notebook</a>'\n",
              "          + ' to learn more about interactive tables.';\n",
              "        element.innerHTML = '';\n",
              "        dataTable['output_type'] = 'display_data';\n",
              "        await google.colab.output.renderOutput(dataTable, element);\n",
              "        const docLink = document.createElement('div');\n",
              "        docLink.innerHTML = docLinkHtml;\n",
              "        element.appendChild(docLink);\n",
              "      }\n",
              "    </script>\n",
              "  </div>\n",
              "\n",
              "\n",
              "    <div id=\"df-575bdf8a-8041-4525-b899-b85d70b8e3d9\">\n",
              "      <button class=\"colab-df-quickchart\" onclick=\"quickchart('df-575bdf8a-8041-4525-b899-b85d70b8e3d9')\"\n",
              "                title=\"Suggest charts\"\n",
              "                style=\"display:none;\">\n",
              "\n",
              "<svg xmlns=\"http://www.w3.org/2000/svg\" height=\"24px\"viewBox=\"0 0 24 24\"\n",
              "     width=\"24px\">\n",
              "    <g>\n",
              "        <path d=\"M19 3H5c-1.1 0-2 .9-2 2v14c0 1.1.9 2 2 2h14c1.1 0 2-.9 2-2V5c0-1.1-.9-2-2-2zM9 17H7v-7h2v7zm4 0h-2V7h2v10zm4 0h-2v-4h2v4z\"/>\n",
              "    </g>\n",
              "</svg>\n",
              "      </button>\n",
              "\n",
              "<style>\n",
              "  .colab-df-quickchart {\n",
              "      --bg-color: #E8F0FE;\n",
              "      --fill-color: #1967D2;\n",
              "      --hover-bg-color: #E2EBFA;\n",
              "      --hover-fill-color: #174EA6;\n",
              "      --disabled-fill-color: #AAA;\n",
              "      --disabled-bg-color: #DDD;\n",
              "  }\n",
              "\n",
              "  [theme=dark] .colab-df-quickchart {\n",
              "      --bg-color: #3B4455;\n",
              "      --fill-color: #D2E3FC;\n",
              "      --hover-bg-color: #434B5C;\n",
              "      --hover-fill-color: #FFFFFF;\n",
              "      --disabled-bg-color: #3B4455;\n",
              "      --disabled-fill-color: #666;\n",
              "  }\n",
              "\n",
              "  .colab-df-quickchart {\n",
              "    background-color: var(--bg-color);\n",
              "    border: none;\n",
              "    border-radius: 50%;\n",
              "    cursor: pointer;\n",
              "    display: none;\n",
              "    fill: var(--fill-color);\n",
              "    height: 32px;\n",
              "    padding: 0;\n",
              "    width: 32px;\n",
              "  }\n",
              "\n",
              "  .colab-df-quickchart:hover {\n",
              "    background-color: var(--hover-bg-color);\n",
              "    box-shadow: 0 1px 2px rgba(60, 64, 67, 0.3), 0 1px 3px 1px rgba(60, 64, 67, 0.15);\n",
              "    fill: var(--button-hover-fill-color);\n",
              "  }\n",
              "\n",
              "  .colab-df-quickchart-complete:disabled,\n",
              "  .colab-df-quickchart-complete:disabled:hover {\n",
              "    background-color: var(--disabled-bg-color);\n",
              "    fill: var(--disabled-fill-color);\n",
              "    box-shadow: none;\n",
              "  }\n",
              "\n",
              "  .colab-df-spinner {\n",
              "    border: 2px solid var(--fill-color);\n",
              "    border-color: transparent;\n",
              "    border-bottom-color: var(--fill-color);\n",
              "    animation:\n",
              "      spin 1s steps(1) infinite;\n",
              "  }\n",
              "\n",
              "  @keyframes spin {\n",
              "    0% {\n",
              "      border-color: transparent;\n",
              "      border-bottom-color: var(--fill-color);\n",
              "      border-left-color: var(--fill-color);\n",
              "    }\n",
              "    20% {\n",
              "      border-color: transparent;\n",
              "      border-left-color: var(--fill-color);\n",
              "      border-top-color: var(--fill-color);\n",
              "    }\n",
              "    30% {\n",
              "      border-color: transparent;\n",
              "      border-left-color: var(--fill-color);\n",
              "      border-top-color: var(--fill-color);\n",
              "      border-right-color: var(--fill-color);\n",
              "    }\n",
              "    40% {\n",
              "      border-color: transparent;\n",
              "      border-right-color: var(--fill-color);\n",
              "      border-top-color: var(--fill-color);\n",
              "    }\n",
              "    60% {\n",
              "      border-color: transparent;\n",
              "      border-right-color: var(--fill-color);\n",
              "    }\n",
              "    80% {\n",
              "      border-color: transparent;\n",
              "      border-right-color: var(--fill-color);\n",
              "      border-bottom-color: var(--fill-color);\n",
              "    }\n",
              "    90% {\n",
              "      border-color: transparent;\n",
              "      border-bottom-color: var(--fill-color);\n",
              "    }\n",
              "  }\n",
              "</style>\n",
              "\n",
              "      <script>\n",
              "        async function quickchart(key) {\n",
              "          const quickchartButtonEl =\n",
              "            document.querySelector('#' + key + ' button');\n",
              "          quickchartButtonEl.disabled = true;  // To prevent multiple clicks.\n",
              "          quickchartButtonEl.classList.add('colab-df-spinner');\n",
              "          try {\n",
              "            const charts = await google.colab.kernel.invokeFunction(\n",
              "                'suggestCharts', [key], {});\n",
              "          } catch (error) {\n",
              "            console.error('Error during call to suggestCharts:', error);\n",
              "          }\n",
              "          quickchartButtonEl.classList.remove('colab-df-spinner');\n",
              "          quickchartButtonEl.classList.add('colab-df-quickchart-complete');\n",
              "        }\n",
              "        (() => {\n",
              "          let quickchartButtonEl =\n",
              "            document.querySelector('#df-575bdf8a-8041-4525-b899-b85d70b8e3d9 button');\n",
              "          quickchartButtonEl.style.display =\n",
              "            google.colab.kernel.accessAllowed ? 'block' : 'none';\n",
              "        })();\n",
              "      </script>\n",
              "    </div>\n",
              "\n",
              "    </div>\n",
              "  </div>\n"
            ],
            "application/vnd.google.colaboratory.intrinsic+json": {
              "type": "dataframe",
              "summary": "{\n  \"name\": \"pd\",\n  \"rows\": 10,\n  \"fields\": [\n    {\n      \"column\": \"Date\",\n      \"properties\": {\n        \"dtype\": \"date\",\n        \"min\": \"2020-07-01 00:00:00\",\n        \"max\": \"2022-12-30 00:00:00\",\n        \"num_unique_values\": 10,\n        \"samples\": [\n          \"2022-12-29 00:00:00\",\n          \"2020-07-02 00:00:00\",\n          \"2022-12-22 00:00:00\"\n        ],\n        \"semantic_type\": \"\",\n        \"description\": \"\"\n      }\n    },\n    {\n      \"column\": \"Price\",\n      \"properties\": {\n        \"dtype\": \"number\",\n        \"std\": 20.386382955296412,\n        \"min\": 42.18,\n        \"max\": 82.82,\n        \"num_unique_values\": 10,\n        \"samples\": [\n          80.96,\n          43.19,\n          79.58\n        ],\n        \"semantic_type\": \"\",\n        \"description\": \"\"\n      }\n    }\n  ]\n}"
            }
          },
          "metadata": {},
          "execution_count": 6
        }
      ]
    },
    {
      "cell_type": "code",
      "source": [
        "monthly = data['Price'].resample('M').mean().dropna()\n",
        "print(f\"Loaded {len(monthly)} months from {monthly.index.min().date()} to {monthly.index.max().date()}\")"
      ],
      "metadata": {
        "colab": {
          "base_uri": "https://localhost:8080/"
        },
        "id": "JdSHSfjI9A2z",
        "outputId": "f40cf989-c5b3-4b88-e8c9-8525ac3b5e63"
      },
      "execution_count": 7,
      "outputs": [
        {
          "output_type": "stream",
          "name": "stdout",
          "text": [
            "Loaded 30 months from 2020-07-31 to 2022-12-31\n"
          ]
        }
      ]
    },
    {
      "cell_type": "code",
      "source": [
        "# Null values\n",
        "data.isna().sum()"
      ],
      "metadata": {
        "colab": {
          "base_uri": "https://localhost:8080/",
          "height": 115
        },
        "id": "DLwUENhl7yHL",
        "outputId": "920eab24-4408-4329-d1e8-27d2aa1718fe"
      },
      "execution_count": 8,
      "outputs": [
        {
          "output_type": "execute_result",
          "data": {
            "text/plain": [
              "Price    0\n",
              "dtype: int64"
            ],
            "text/html": [
              "<div>\n",
              "<style scoped>\n",
              "    .dataframe tbody tr th:only-of-type {\n",
              "        vertical-align: middle;\n",
              "    }\n",
              "\n",
              "    .dataframe tbody tr th {\n",
              "        vertical-align: top;\n",
              "    }\n",
              "\n",
              "    .dataframe thead th {\n",
              "        text-align: right;\n",
              "    }\n",
              "</style>\n",
              "<table border=\"1\" class=\"dataframe\">\n",
              "  <thead>\n",
              "    <tr style=\"text-align: right;\">\n",
              "      <th></th>\n",
              "      <th>0</th>\n",
              "    </tr>\n",
              "  </thead>\n",
              "  <tbody>\n",
              "    <tr>\n",
              "      <th>Price</th>\n",
              "      <td>0</td>\n",
              "    </tr>\n",
              "  </tbody>\n",
              "</table>\n",
              "</div><br><label><b>dtype:</b> int64</label>"
            ]
          },
          "metadata": {},
          "execution_count": 8
        }
      ]
    },
    {
      "cell_type": "code",
      "source": [
        "# Get the shape of the dataset\n",
        "print(data.shape)"
      ],
      "metadata": {
        "colab": {
          "base_uri": "https://localhost:8080/"
        },
        "id": "0meMrL3B704g",
        "outputId": "99871564-5284-4e22-95f3-5daeeda344cd"
      },
      "execution_count": 9,
      "outputs": [
        {
          "output_type": "stream",
          "name": "stdout",
          "text": [
            "(635, 1)\n"
          ]
        }
      ]
    },
    {
      "cell_type": "markdown",
      "source": [
        "We scale the oil price data to the range [0, 1] to make the LSTM model training more stable and efficient. Scaling also helps prevent issues with very large or small values that can slow learning."
      ],
      "metadata": {
        "id": "DCAu1UNqELWm"
      }
    },
    {
      "cell_type": "code",
      "source": [
        "def scale_data(series: pd.Series, feature_range: tuple = (0, 1)):\n",
        "    \"\"\"\n",
        "    Scale a 1D numeric pandas Series to a given range.\n",
        "    Returns the scaled array and fitted scaler.\n",
        "    \"\"\"\n",
        "    values = series.values.reshape(-1, 1)\n",
        "    scaler = MinMaxScaler(feature_range=feature_range)\n",
        "    scaled_array = scaler.fit_transform(values)\n",
        "    return scaled_array, scaler\n",
        "\n",
        "# Call the function and view results\n",
        "monthly_scaled, scaler = scale_data(monthly)\n",
        "print(\"Scaled array shape:\", monthly_scaled.shape)"
      ],
      "metadata": {
        "colab": {
          "base_uri": "https://localhost:8080/"
        },
        "id": "FK4SB83WCl8h",
        "outputId": "f0f1425d-fef8-4db1-ea45-0f381079c529"
      },
      "execution_count": 10,
      "outputs": [
        {
          "output_type": "stream",
          "name": "stdout",
          "text": [
            "Scaled array shape: (30, 1)\n"
          ]
        }
      ]
    },
    {
      "cell_type": "markdown",
      "source": [
        "We convert the time series into input/output pairs for supervised learning.\n",
        "Each input sequence consists of look_back previous values (e.g., last 12 months), and the target is the next value.\n",
        "We also split the data into training and testing sets."
      ],
      "metadata": {
        "id": "1jY70AvzEV_g"
      }
    },
    {
      "cell_type": "code",
      "source": [
        "## One‐Step Sequence Function\n",
        "import numpy as np\n",
        "\n",
        "def create_one_step_sequences(scaled_array: np.ndarray, look_back: int = 12):\n",
        "    \"\"\"\n",
        "    Build X, y for one‐step‐ahead forecasting:\n",
        "      X[i] = scaled_array[i : i+look_back]\n",
        "      y[i] = scaled_array[i+look_back, 0]\n",
        "    \"\"\"\n",
        "    X, y = [], []\n",
        "    total = len(scaled_array)\n",
        "    for i in range(total - look_back):\n",
        "        X.append(scaled_array[i : i + look_back])\n",
        "        y.append(scaled_array[i + look_back, 0])\n",
        "    return np.array(X), np.array(y)\n",
        "\n",
        "look_back = 12\n",
        "X, y = create_one_step_sequences(monthly_scaled, look_back=look_back)\n",
        "print(\"X shape:\", X.shape, \"y shape:\", y.shape)\n"
      ],
      "metadata": {
        "colab": {
          "base_uri": "https://localhost:8080/"
        },
        "id": "UDkxrn_4_fLI",
        "outputId": "64b96e00-2f0c-43ef-f455-d35ce2a35a58"
      },
      "execution_count": 11,
      "outputs": [
        {
          "output_type": "stream",
          "name": "stdout",
          "text": [
            "X shape: (18, 12, 1) y shape: (18,)\n"
          ]
        }
      ]
    },
    {
      "cell_type": "code",
      "source": [
        "# Train/Validation Split\n",
        "split_idx = int(len(X) * 0.8)\n",
        "X_train, y_train = X[:split_idx], y[:split_idx]\n",
        "X_val,   y_val   = X[split_idx:], y[split_idx:]\n",
        "print(\"Train samples:\", X_train.shape[0], \"Val samples:\", X_val.shape[0])\n"
      ],
      "metadata": {
        "colab": {
          "base_uri": "https://localhost:8080/"
        },
        "id": "HUUFLYom_i31",
        "outputId": "015b1e05-7159-403f-c36c-c1ed19f837f0"
      },
      "execution_count": 12,
      "outputs": [
        {
          "output_type": "stream",
          "name": "stdout",
          "text": [
            "Train samples: 14 Val samples: 4\n"
          ]
        }
      ]
    },
    {
      "cell_type": "markdown",
      "metadata": {
        "id": "wJ4tmxukE4w6"
      },
      "source": [
        "# Build and Train the LSTM Model\n",
        "\n",
        "We will now define and train the LSTM model using our processed data.\n",
        "The model will learn to predict the next oil price given the previous 12 months of prices.\n",
        "We will evaluate the model’s performance using the test set."
      ]
    },
    {
      "cell_type": "code",
      "source": [
        "# Define Model‐Building Function for One‐Step (Iterative) Forecast (No Dropout)\n",
        "from tensorflow.keras.models import Sequential\n",
        "from tensorflow.keras.layers import LSTM, Dense\n",
        "\n",
        "def build_lstm_model(input_shape, units=50, optimizer='adam'):\n",
        "    \"\"\"\n",
        "    Build and compile a one-step LSTM model for iterative forecasting.\n",
        "    \"\"\"\n",
        "    model = Sequential([\n",
        "        LSTM(units, activation='tanh', input_shape=input_shape),\n",
        "        Dense(1)    # predict the next single step\n",
        "    ])\n",
        "    model.compile(optimizer=optimizer, loss='mse')\n",
        "    return model\n",
        "\n",
        "# Example instantiation with look_back=12:\n",
        "model = build_lstm_model(input_shape=(look_back, 1), units=50)\n",
        "model.summary()\n"
      ],
      "metadata": {
        "colab": {
          "base_uri": "https://localhost:8080/",
          "height": 197
        },
        "id": "72sDn3aN-5__",
        "outputId": "204adc59-f319-4a73-b05f-469e86dbcbfb"
      },
      "execution_count": 13,
      "outputs": [
        {
          "output_type": "display_data",
          "data": {
            "text/plain": [
              "\u001b[1mModel: \"sequential\"\u001b[0m\n"
            ],
            "text/html": [
              "<pre style=\"white-space:pre;overflow-x:auto;line-height:normal;font-family:Menlo,'DejaVu Sans Mono',consolas,'Courier New',monospace\"><span style=\"font-weight: bold\">Model: \"sequential\"</span>\n",
              "</pre>\n"
            ]
          },
          "metadata": {}
        },
        {
          "output_type": "display_data",
          "data": {
            "text/plain": [
              "┏━━━━━━━━━━━━━━━━━━━━━━━━━━━━━━━━━┳━━━━━━━━━━━━━━━━━━━━━━━━┳━━━━━━━━━━━━━━━┓\n",
              "┃\u001b[1m \u001b[0m\u001b[1mLayer (type)                   \u001b[0m\u001b[1m \u001b[0m┃\u001b[1m \u001b[0m\u001b[1mOutput Shape          \u001b[0m\u001b[1m \u001b[0m┃\u001b[1m \u001b[0m\u001b[1m      Param #\u001b[0m\u001b[1m \u001b[0m┃\n",
              "┡━━━━━━━━━━━━━━━━━━━━━━━━━━━━━━━━━╇━━━━━━━━━━━━━━━━━━━━━━━━╇━━━━━━━━━━━━━━━┩\n",
              "│ lstm (\u001b[38;5;33mLSTM\u001b[0m)                     │ (\u001b[38;5;45mNone\u001b[0m, \u001b[38;5;34m50\u001b[0m)             │        \u001b[38;5;34m10,400\u001b[0m │\n",
              "├─────────────────────────────────┼────────────────────────┼───────────────┤\n",
              "│ dense (\u001b[38;5;33mDense\u001b[0m)                   │ (\u001b[38;5;45mNone\u001b[0m, \u001b[38;5;34m1\u001b[0m)              │            \u001b[38;5;34m51\u001b[0m │\n",
              "└─────────────────────────────────┴────────────────────────┴───────────────┘\n"
            ],
            "text/html": [
              "<pre style=\"white-space:pre;overflow-x:auto;line-height:normal;font-family:Menlo,'DejaVu Sans Mono',consolas,'Courier New',monospace\">┏━━━━━━━━━━━━━━━━━━━━━━━━━━━━━━━━━┳━━━━━━━━━━━━━━━━━━━━━━━━┳━━━━━━━━━━━━━━━┓\n",
              "┃<span style=\"font-weight: bold\"> Layer (type)                    </span>┃<span style=\"font-weight: bold\"> Output Shape           </span>┃<span style=\"font-weight: bold\">       Param # </span>┃\n",
              "┡━━━━━━━━━━━━━━━━━━━━━━━━━━━━━━━━━╇━━━━━━━━━━━━━━━━━━━━━━━━╇━━━━━━━━━━━━━━━┩\n",
              "│ lstm (<span style=\"color: #0087ff; text-decoration-color: #0087ff\">LSTM</span>)                     │ (<span style=\"color: #00d7ff; text-decoration-color: #00d7ff\">None</span>, <span style=\"color: #00af00; text-decoration-color: #00af00\">50</span>)             │        <span style=\"color: #00af00; text-decoration-color: #00af00\">10,400</span> │\n",
              "├─────────────────────────────────┼────────────────────────┼───────────────┤\n",
              "│ dense (<span style=\"color: #0087ff; text-decoration-color: #0087ff\">Dense</span>)                   │ (<span style=\"color: #00d7ff; text-decoration-color: #00d7ff\">None</span>, <span style=\"color: #00af00; text-decoration-color: #00af00\">1</span>)              │            <span style=\"color: #00af00; text-decoration-color: #00af00\">51</span> │\n",
              "└─────────────────────────────────┴────────────────────────┴───────────────┘\n",
              "</pre>\n"
            ]
          },
          "metadata": {}
        },
        {
          "output_type": "display_data",
          "data": {
            "text/plain": [
              "\u001b[1m Total params: \u001b[0m\u001b[38;5;34m10,451\u001b[0m (40.82 KB)\n"
            ],
            "text/html": [
              "<pre style=\"white-space:pre;overflow-x:auto;line-height:normal;font-family:Menlo,'DejaVu Sans Mono',consolas,'Courier New',monospace\"><span style=\"font-weight: bold\"> Total params: </span><span style=\"color: #00af00; text-decoration-color: #00af00\">10,451</span> (40.82 KB)\n",
              "</pre>\n"
            ]
          },
          "metadata": {}
        },
        {
          "output_type": "display_data",
          "data": {
            "text/plain": [
              "\u001b[1m Trainable params: \u001b[0m\u001b[38;5;34m10,451\u001b[0m (40.82 KB)\n"
            ],
            "text/html": [
              "<pre style=\"white-space:pre;overflow-x:auto;line-height:normal;font-family:Menlo,'DejaVu Sans Mono',consolas,'Courier New',monospace\"><span style=\"font-weight: bold\"> Trainable params: </span><span style=\"color: #00af00; text-decoration-color: #00af00\">10,451</span> (40.82 KB)\n",
              "</pre>\n"
            ]
          },
          "metadata": {}
        },
        {
          "output_type": "display_data",
          "data": {
            "text/plain": [
              "\u001b[1m Non-trainable params: \u001b[0m\u001b[38;5;34m0\u001b[0m (0.00 B)\n"
            ],
            "text/html": [
              "<pre style=\"white-space:pre;overflow-x:auto;line-height:normal;font-family:Menlo,'DejaVu Sans Mono',consolas,'Courier New',monospace\"><span style=\"font-weight: bold\"> Non-trainable params: </span><span style=\"color: #00af00; text-decoration-color: #00af00\">0</span> (0.00 B)\n",
              "</pre>\n"
            ]
          },
          "metadata": {}
        }
      ]
    },
    {
      "cell_type": "markdown",
      "source": [
        "# **Hypertune Parameters with Grid Search**"
      ],
      "metadata": {
        "id": "ltLLB1cwF6At"
      }
    },
    {
      "cell_type": "code",
      "source": [
        "# Hyperparameter Tuning Loop (iterative one‐step model with dropout + lr tuning + EarlyStopping)\n",
        "from tensorflow.keras.layers import Dropout\n",
        "from tensorflow.keras.optimizers import Adam\n",
        "from tensorflow.keras.callbacks import EarlyStopping\n",
        "\n",
        "units_list   = [32, 50, 64]\n",
        "batch_sizes  = [8, 16, 32]\n",
        "dropout_list = [0.1, 0.2, 0.3]\n",
        "lr_list      = [1e-2, 1e-3, 1e-4]\n",
        "\n",
        "best_rmse, best_params = np.inf, None\n",
        "\n",
        "for units in units_list:\n",
        "    for dropout in dropout_list:\n",
        "        for batch_size in batch_sizes:\n",
        "            for lr in lr_list:\n",
        "                print(f\"Try: units={units}, batch={batch_size}, \"\n",
        "                      f\"dropout={dropout}, lr={lr}\")\n",
        "\n",
        "                # build model dynamically per-iteration\n",
        "                m = Sequential()\n",
        "                m.add(LSTM(units, activation='tanh', input_shape=(look_back, 1)))\n",
        "                if dropout > 0.0:\n",
        "                    m.add(Dropout(dropout))\n",
        "                m.add(Dense(1))\n",
        "\n",
        "                # compile with Adam at this learning rate\n",
        "                optimizer = Adam(learning_rate=lr)\n",
        "                m.compile(optimizer=optimizer, loss='mse')\n",
        "\n",
        "                # early stopping on val_loss\n",
        "                es = EarlyStopping(\n",
        "                    monitor='val_loss',\n",
        "                    patience=5,\n",
        "                    restore_best_weights=True,\n",
        "                    verbose=0\n",
        "                )\n",
        "\n",
        "                # train with validation data\n",
        "                hist = m.fit(\n",
        "                    X_train, y_train,\n",
        "                    epochs=50,\n",
        "                    batch_size=batch_size,\n",
        "                    validation_data=(X_val, y_val),\n",
        "                    callbacks=[es],\n",
        "                    verbose=0\n",
        "                )\n",
        "\n",
        "                # one-step validation RMSE\n",
        "                val_pred = m.predict(X_val, verbose=0).flatten()\n",
        "                rmse = np.sqrt(mean_squared_error(y_val, val_pred))\n",
        "                print(f\"  Val RMSE: {rmse:.4f}\")\n",
        "\n",
        "                if rmse < best_rmse:\n",
        "                    best_rmse, best_params = rmse, (units, batch_size, dropout, lr)\n",
        "                    best_model, best_history = m, hist\n",
        "\n",
        "print(f\"\\nBest → units={best_params[0]}, batch={best_params[1]}, \"\n",
        "      f\"dropout={best_params[2]}, lr={best_params[3]}, RMSE={best_rmse:.4f}\")\n"
      ],
      "metadata": {
        "colab": {
          "base_uri": "https://localhost:8080/"
        },
        "id": "I6yXV8t9MLn0",
        "outputId": "34204d0a-ff6f-4bdc-e828-1eb2459e16dc"
      },
      "execution_count": 14,
      "outputs": [
        {
          "output_type": "stream",
          "name": "stdout",
          "text": [
            "Try: units=32, batch=8, dropout=0.1, lr=0.01\n",
            "  Val RMSE: 0.1098\n",
            "Try: units=32, batch=8, dropout=0.1, lr=0.001\n",
            "  Val RMSE: 0.0547\n",
            "Try: units=32, batch=8, dropout=0.1, lr=0.0001\n",
            "  Val RMSE: 0.1099\n",
            "Try: units=32, batch=16, dropout=0.1, lr=0.01\n",
            "  Val RMSE: 0.0657\n",
            "Try: units=32, batch=16, dropout=0.1, lr=0.001\n"
          ]
        },
        {
          "output_type": "stream",
          "name": "stderr",
          "text": [
            "WARNING:tensorflow:5 out of the last 5 calls to <function TensorFlowTrainer.make_predict_function.<locals>.one_step_on_data_distributed at 0x78b9a8b60e00> triggered tf.function retracing. Tracing is expensive and the excessive number of tracings could be due to (1) creating @tf.function repeatedly in a loop, (2) passing tensors with different shapes, (3) passing Python objects instead of tensors. For (1), please define your @tf.function outside of the loop. For (2), @tf.function has reduce_retracing=True option that can avoid unnecessary retracing. For (3), please refer to https://www.tensorflow.org/guide/function#controlling_retracing and https://www.tensorflow.org/api_docs/python/tf/function for  more details.\n"
          ]
        },
        {
          "output_type": "stream",
          "name": "stdout",
          "text": [
            "  Val RMSE: 0.0576\n",
            "Try: units=32, batch=16, dropout=0.1, lr=0.0001\n"
          ]
        },
        {
          "output_type": "stream",
          "name": "stderr",
          "text": [
            "WARNING:tensorflow:6 out of the last 6 calls to <function TensorFlowTrainer.make_predict_function.<locals>.one_step_on_data_distributed at 0x78b994212e80> triggered tf.function retracing. Tracing is expensive and the excessive number of tracings could be due to (1) creating @tf.function repeatedly in a loop, (2) passing tensors with different shapes, (3) passing Python objects instead of tensors. For (1), please define your @tf.function outside of the loop. For (2), @tf.function has reduce_retracing=True option that can avoid unnecessary retracing. For (3), please refer to https://www.tensorflow.org/guide/function#controlling_retracing and https://www.tensorflow.org/api_docs/python/tf/function for  more details.\n"
          ]
        },
        {
          "output_type": "stream",
          "name": "stdout",
          "text": [
            "  Val RMSE: 0.2639\n",
            "Try: units=32, batch=32, dropout=0.1, lr=0.01\n",
            "  Val RMSE: 0.1759\n",
            "Try: units=32, batch=32, dropout=0.1, lr=0.001\n",
            "  Val RMSE: 0.0541\n",
            "Try: units=32, batch=32, dropout=0.1, lr=0.0001\n",
            "  Val RMSE: 0.3713\n",
            "Try: units=32, batch=8, dropout=0.2, lr=0.01\n",
            "  Val RMSE: 0.0788\n",
            "Try: units=32, batch=8, dropout=0.2, lr=0.001\n",
            "  Val RMSE: 0.0549\n",
            "Try: units=32, batch=8, dropout=0.2, lr=0.0001\n",
            "  Val RMSE: 0.2414\n",
            "Try: units=32, batch=16, dropout=0.2, lr=0.01\n",
            "  Val RMSE: 0.1844\n",
            "Try: units=32, batch=16, dropout=0.2, lr=0.001\n",
            "  Val RMSE: 0.0553\n",
            "Try: units=32, batch=16, dropout=0.2, lr=0.0001\n",
            "  Val RMSE: 0.4461\n",
            "Try: units=32, batch=32, dropout=0.2, lr=0.01\n",
            "  Val RMSE: 0.1120\n",
            "Try: units=32, batch=32, dropout=0.2, lr=0.001\n",
            "  Val RMSE: 0.0592\n",
            "Try: units=32, batch=32, dropout=0.2, lr=0.0001\n",
            "  Val RMSE: 0.4230\n",
            "Try: units=32, batch=8, dropout=0.3, lr=0.01\n",
            "  Val RMSE: 0.0695\n",
            "Try: units=32, batch=8, dropout=0.3, lr=0.001\n",
            "  Val RMSE: 0.0580\n",
            "Try: units=32, batch=8, dropout=0.3, lr=0.0001\n",
            "  Val RMSE: 0.5589\n",
            "Try: units=32, batch=16, dropout=0.3, lr=0.01\n",
            "  Val RMSE: 0.1075\n",
            "Try: units=32, batch=16, dropout=0.3, lr=0.001\n",
            "  Val RMSE: 0.0605\n",
            "Try: units=32, batch=16, dropout=0.3, lr=0.0001\n",
            "  Val RMSE: 0.3922\n",
            "Try: units=32, batch=32, dropout=0.3, lr=0.01\n",
            "  Val RMSE: 0.0770\n",
            "Try: units=32, batch=32, dropout=0.3, lr=0.001\n",
            "  Val RMSE: 0.0552\n",
            "Try: units=32, batch=32, dropout=0.3, lr=0.0001\n",
            "  Val RMSE: 0.4961\n",
            "Try: units=50, batch=8, dropout=0.1, lr=0.01\n",
            "  Val RMSE: 0.0448\n",
            "Try: units=50, batch=8, dropout=0.1, lr=0.001\n",
            "  Val RMSE: 0.0743\n",
            "Try: units=50, batch=8, dropout=0.1, lr=0.0001\n",
            "  Val RMSE: 0.2371\n",
            "Try: units=50, batch=16, dropout=0.1, lr=0.01\n",
            "  Val RMSE: 0.1011\n",
            "Try: units=50, batch=16, dropout=0.1, lr=0.001\n",
            "  Val RMSE: 0.0554\n",
            "Try: units=50, batch=16, dropout=0.1, lr=0.0001\n",
            "  Val RMSE: 0.5481\n",
            "Try: units=50, batch=32, dropout=0.1, lr=0.01\n",
            "  Val RMSE: 0.0540\n",
            "Try: units=50, batch=32, dropout=0.1, lr=0.001\n",
            "  Val RMSE: 0.0676\n",
            "Try: units=50, batch=32, dropout=0.1, lr=0.0001\n",
            "  Val RMSE: 0.4677\n",
            "Try: units=50, batch=8, dropout=0.2, lr=0.01\n",
            "  Val RMSE: 0.1615\n",
            "Try: units=50, batch=8, dropout=0.2, lr=0.001\n",
            "  Val RMSE: 0.0585\n",
            "Try: units=50, batch=8, dropout=0.2, lr=0.0001\n",
            "  Val RMSE: 0.0604\n",
            "Try: units=50, batch=16, dropout=0.2, lr=0.01\n",
            "  Val RMSE: 0.0558\n",
            "Try: units=50, batch=16, dropout=0.2, lr=0.001\n",
            "  Val RMSE: 0.0579\n",
            "Try: units=50, batch=16, dropout=0.2, lr=0.0001\n",
            "  Val RMSE: 0.4809\n",
            "Try: units=50, batch=32, dropout=0.2, lr=0.01\n",
            "  Val RMSE: 0.0576\n",
            "Try: units=50, batch=32, dropout=0.2, lr=0.001\n",
            "  Val RMSE: 0.0611\n",
            "Try: units=50, batch=32, dropout=0.2, lr=0.0001\n",
            "  Val RMSE: 0.3064\n",
            "Try: units=50, batch=8, dropout=0.3, lr=0.01\n",
            "  Val RMSE: 0.0686\n",
            "Try: units=50, batch=8, dropout=0.3, lr=0.001\n",
            "  Val RMSE: 0.0717\n",
            "Try: units=50, batch=8, dropout=0.3, lr=0.0001\n",
            "  Val RMSE: 0.0891\n",
            "Try: units=50, batch=16, dropout=0.3, lr=0.01\n",
            "  Val RMSE: 0.0595\n",
            "Try: units=50, batch=16, dropout=0.3, lr=0.001\n",
            "  Val RMSE: 0.0565\n",
            "Try: units=50, batch=16, dropout=0.3, lr=0.0001\n",
            "  Val RMSE: 0.2148\n",
            "Try: units=50, batch=32, dropout=0.3, lr=0.01\n",
            "  Val RMSE: 0.0440\n",
            "Try: units=50, batch=32, dropout=0.3, lr=0.001\n",
            "  Val RMSE: 0.0526\n",
            "Try: units=50, batch=32, dropout=0.3, lr=0.0001\n",
            "  Val RMSE: 0.1509\n",
            "Try: units=64, batch=8, dropout=0.1, lr=0.01\n",
            "  Val RMSE: 0.0474\n",
            "Try: units=64, batch=8, dropout=0.1, lr=0.001\n",
            "  Val RMSE: 0.0703\n",
            "Try: units=64, batch=8, dropout=0.1, lr=0.0001\n",
            "  Val RMSE: 0.0616\n",
            "Try: units=64, batch=16, dropout=0.1, lr=0.01\n",
            "  Val RMSE: 0.0934\n",
            "Try: units=64, batch=16, dropout=0.1, lr=0.001\n",
            "  Val RMSE: 0.0581\n",
            "Try: units=64, batch=16, dropout=0.1, lr=0.0001\n",
            "  Val RMSE: 0.3064\n",
            "Try: units=64, batch=32, dropout=0.1, lr=0.01\n",
            "  Val RMSE: 0.0440\n",
            "Try: units=64, batch=32, dropout=0.1, lr=0.001\n",
            "  Val RMSE: 0.0608\n",
            "Try: units=64, batch=32, dropout=0.1, lr=0.0001\n",
            "  Val RMSE: 0.3549\n",
            "Try: units=64, batch=8, dropout=0.2, lr=0.01\n",
            "  Val RMSE: 0.0533\n",
            "Try: units=64, batch=8, dropout=0.2, lr=0.001\n",
            "  Val RMSE: 0.0634\n",
            "Try: units=64, batch=8, dropout=0.2, lr=0.0001\n",
            "  Val RMSE: 0.0579\n",
            "Try: units=64, batch=16, dropout=0.2, lr=0.01\n",
            "  Val RMSE: 0.1091\n",
            "Try: units=64, batch=16, dropout=0.2, lr=0.001\n",
            "  Val RMSE: 0.0646\n",
            "Try: units=64, batch=16, dropout=0.2, lr=0.0001\n",
            "  Val RMSE: 0.2707\n",
            "Try: units=64, batch=32, dropout=0.2, lr=0.01\n",
            "  Val RMSE: 0.0584\n",
            "Try: units=64, batch=32, dropout=0.2, lr=0.001\n",
            "  Val RMSE: 0.0592\n",
            "Try: units=64, batch=32, dropout=0.2, lr=0.0001\n",
            "  Val RMSE: 0.4585\n",
            "Try: units=64, batch=8, dropout=0.3, lr=0.01\n",
            "  Val RMSE: 0.0566\n",
            "Try: units=64, batch=8, dropout=0.3, lr=0.001\n",
            "  Val RMSE: 0.0675\n",
            "Try: units=64, batch=8, dropout=0.3, lr=0.0001\n",
            "  Val RMSE: 0.0670\n",
            "Try: units=64, batch=16, dropout=0.3, lr=0.01\n",
            "  Val RMSE: 0.0561\n",
            "Try: units=64, batch=16, dropout=0.3, lr=0.001\n",
            "  Val RMSE: 0.0590\n",
            "Try: units=64, batch=16, dropout=0.3, lr=0.0001\n",
            "  Val RMSE: 0.3635\n",
            "Try: units=64, batch=32, dropout=0.3, lr=0.01\n",
            "  Val RMSE: 0.0484\n",
            "Try: units=64, batch=32, dropout=0.3, lr=0.001\n",
            "  Val RMSE: 0.0643\n",
            "Try: units=64, batch=32, dropout=0.3, lr=0.0001\n",
            "  Val RMSE: 0.5398\n",
            "\n",
            "Best → units=50, batch=32, dropout=0.3, lr=0.01, RMSE=0.0440\n"
          ]
        }
      ]
    },
    {
      "cell_type": "code",
      "source": [
        "# Plot Training & Validation Loss\n",
        "plt.figure(figsize=(8,4))\n",
        "plt.plot(best_history.history['loss'], label='Train Loss')\n",
        "plt.plot(best_history.history['val_loss'], label='Val Loss')\n",
        "plt.title('Training vs. Validation Loss')\n",
        "plt.xlabel('Epoch'); plt.ylabel('MSE'); plt.legend()\n",
        "plt.show()\n"
      ],
      "metadata": {
        "colab": {
          "base_uri": "https://localhost:8080/",
          "height": 410
        },
        "id": "MB0LZYOE8EN2",
        "outputId": "b583083d-0618-4624-9597-8c6e773bbbb5"
      },
      "execution_count": 15,
      "outputs": [
        {
          "output_type": "display_data",
          "data": {
            "text/plain": [
              "<Figure size 800x400 with 1 Axes>"
            ],
            "image/png": "[encoded data removed]"
          },
          "metadata": {}
        }
      ]
    },
    {
      "cell_type": "markdown",
      "source": [
        "# **Use the Best Model for Prediction and Forecasting**"
      ],
      "metadata": {
        "id": "imzmPXYiGgr7"
      }
    },
    {
      "cell_type": "code",
      "source": [
        "# Iterative 24‐Month Forecast\n",
        "horizon = 24\n",
        "last_window = monthly_scaled[-look_back:].reshape(1, look_back, 1)\n",
        "preds_scaled = []\n",
        "window = last_window.copy()\n",
        "\n",
        "for _ in range(horizon):\n",
        "    p = best_model.predict(window, verbose=0)[0,0]\n",
        "    preds_scaled.append(p)\n",
        "    # slide window\n",
        "    window = np.concatenate([window[:,1:,:], np.array([[[p]]])], axis=1)\n",
        "\n",
        "pred_scaled = np.array(preds_scaled).reshape(-1,1)\n",
        "forecast = scaler.inverse_transform(pred_scaled).flatten()\n"
      ],
      "metadata": {
        "id": "tv5WKGNeAUGj"
      },
      "execution_count": 16,
      "outputs": []
    },
    {
      "cell_type": "code",
      "source": [
        "# Plot Forecast\n",
        "import pandas as pd\n",
        "\n",
        "last_date = monthly.index[-1]\n",
        "h_idx     = pd.date_range(last_date + pd.offsets.MonthEnd(1),\n",
        "                          periods=horizon, freq='M')\n",
        "\n",
        "plt.figure(figsize=(10,5))\n",
        "plt.plot(monthly.index[-look_back:], monthly.values[-look_back:], label='Input Window')\n",
        "plt.plot(h_idx, forecast, marker='x', label='24‐Month Iterative Forecast')\n",
        "plt.title(\"Oil Price: 24‐Month Iterative LSTM Forecast\")\n",
        "plt.xlabel(\"Date\"); plt.ylabel(\"Price (USD)\"); plt.legend(); plt.show()\n"
      ],
      "metadata": {
        "colab": {
          "base_uri": "https://localhost:8080/",
          "height": 487
        },
        "id": "fBN6xdGeAaWi",
        "outputId": "74f5e2d3-f1f7-43fe-bd9f-009e756effec"
      },
      "execution_count": 17,
      "outputs": [
        {
          "output_type": "display_data",
          "data": {
            "text/plain": [
              "<Figure size 1000x500 with 1 Axes>"
            ],
            "image/png": "[encoded data removed]"
          },
          "metadata": {}
        }
      ]
    },
    {
      "cell_type": "code",
      "source": [
        "# Compute Validation RMSE in USD (for CI width)\n",
        "from sklearn.metrics import mean_squared_error\n",
        "import numpy as np\n",
        "\n",
        "# 1) Predict on your validation set\n",
        "val_pred_scaled = best_model.predict(X_val, verbose=0).flatten()\n",
        "# 2) Invert scaling to USD\n",
        "val_pred_usd = scaler.inverse_transform(val_pred_scaled.reshape(-1,1)).flatten()\n",
        "val_true_usd = scaler.inverse_transform(y_val.reshape(-1,1)).flatten()\n",
        "# 3) Compute RMSE (USD)\n",
        "val_mse      = mean_squared_error(val_true_usd, val_pred_usd)\n",
        "val_rmse_usd = np.sqrt(val_mse)\n",
        "print(f\"Validation RMSE (USD): {val_rmse_usd:.2f}\")\n"
      ],
      "metadata": {
        "colab": {
          "base_uri": "https://localhost:8080/"
        },
        "id": "TjpiPTpJDQnJ",
        "outputId": "be0a4451-716c-430b-ed69-34b96ac31d66"
      },
      "execution_count": 18,
      "outputs": [
        {
          "output_type": "stream",
          "name": "stdout",
          "text": [
            "Validation RMSE (USD): 3.63\n"
          ]
        }
      ]
    },
    {
      "cell_type": "code",
      "source": [
        "# Build 95% CI around your 24-month forecast\n",
        "ci = 1.96 * val_rmse_usd\n",
        "lower = forecast - ci\n",
        "upper = forecast + ci\n"
      ],
      "metadata": {
        "id": "nTj8DUjjDNfr"
      },
      "execution_count": 19,
      "outputs": []
    },
    {
      "cell_type": "code",
      "source": [
        "data_latest = pd.read_csv(\n",
        "    \"/content/drive/MyDrive/Advance Research/Assignment 1/\"\n",
        "    \"Oil price data to the current date.csv\",\n",
        "    parse_dates=['Date']\n",
        ")\n",
        "data_latest = data_latest.sort_values('Date').set_index('Date')\n",
        "monthly_latest = data_latest['Price'].resample('M').mean().dropna()\n"
      ],
      "metadata": {
        "id": "m9rpxtgLJndN"
      },
      "execution_count": 20,
      "outputs": []
    },
    {
      "cell_type": "code",
      "source": [
        "# MC-Dropout Forecast\n",
        "def mc_dropout_forecast(model, last_window, scaler, horizon=24, n_sims=200):\n",
        "    \"\"\"\n",
        "    Iterative forecasting with dropout active at inference in TF 2.x:\n",
        "    - model(window, training=True) ensures Dropout layers stay on.\n",
        "    \"\"\"\n",
        "    sims = np.zeros((n_sims, horizon))\n",
        "    for sim in range(n_sims):\n",
        "        window = last_window.copy()\n",
        "        preds = []\n",
        "        for _ in range(horizon):\n",
        "            # Forward pass with dropout\n",
        "            p = model(window, training=True).numpy()[0,0]\n",
        "            preds.append(p)\n",
        "            # Slide window forward\n",
        "            window = np.concatenate([window[:,1:,:], [[[p]]]], axis=1)\n",
        "        sims[sim] = preds\n",
        "\n",
        "    # Invert scale: sims shape (n_sims, horizon)\n",
        "    sims_usd = scaler.inverse_transform(sims.T).T  # now (n_sims, horizon)\n",
        "    mean_usd   = sims_usd.mean(axis=0)\n",
        "    lower_usd  = np.percentile(sims_usd, 2.5, axis=0)\n",
        "    upper_usd  = np.percentile(sims_usd, 97.5, axis=0)\n",
        "    return mean_usd, lower_usd, upper_usd\n",
        "\n",
        "\n",
        "last_window = monthly_scaled[-look_back:].reshape(1, look_back, 1)\n",
        "mc_mean, mc_lower, mc_upper = mc_dropout_forecast(\n",
        "    best_model, last_window, scaler, horizon=24, n_sims=200\n",
        ")\n"
      ],
      "metadata": {
        "id": "J3MqfiDRI4TS"
      },
      "execution_count": 21,
      "outputs": []
    },
    {
      "cell_type": "code",
      "source": [
        "# Plot MC Dropout CIs vs. Fixed RMSE Band\n",
        "plt.figure(figsize=(10,4))\n",
        "# historical\n",
        "plt.plot(monthly.index, monthly.values, label='Historical')\n",
        "# Current data\n",
        "plt.plot(monthly_latest.index, monthly_latest.values,\n",
        "         linestyle='--', label='Current data')\n",
        "# MC mean forecast\n",
        "plt.plot(h_idx, mc_mean, marker='x', color='orange', label='MC Dropout Mean')\n",
        "# MC CI\n",
        "plt.fill_between(h_idx, mc_lower, mc_upper,\n",
        "                 color='orange', alpha=0.3, label='MC 95% CI')\n",
        "# fixed RMSE band for comparison\n",
        "plt.fill_between(h_idx, lower, upper,\n",
        "                 color='gray', alpha=0.2, label='Fixed ±1.96×RMSE')\n",
        "\n",
        "plt.title('Oil Price: 24-Month Forecast with MC-Dropout CIs')\n",
        "plt.xlabel('Date'); plt.ylabel('Price (USD)'); plt.legend(); plt.show()\n"
      ],
      "metadata": {
        "colab": {
          "base_uri": "https://localhost:8080/",
          "height": 410
        },
        "id": "vdKhZKsHIRsk",
        "outputId": "e07c904f-613c-49d4-bb23-28a86f1e4957"
      },
      "execution_count": 26,
      "outputs": [
        {
          "output_type": "display_data",
          "data": {
            "text/plain": [
              "<Figure size 1000x400 with 1 Axes>"
            ],
            "image/png": "[encoded data removed]"
          },
          "metadata": {}
        }
      ]
    },
    {
      "cell_type": "code",
      "source": [
        "# Merge Historical, Forecast, and Current CSV Data, Then Plot (with MC-dropout CI)\n",
        "plt.figure(figsize=(10,4))\n",
        "\n",
        "# 1) Build the forecast index (already defined as h_idx)\n",
        "last_hist = monthly.index[-1]\n",
        "h_idx = pd.date_range(last_hist + pd.offsets.MonthEnd(1),\n",
        "                      periods=horizon, freq='M')\n",
        "\n",
        "# 2) Align the live data\n",
        "live_slice = monthly_latest.reindex(h_idx).ffill()\n",
        "\n",
        "# Plot historical\n",
        "plt.plot(monthly.index, monthly.values, label='Historical (to end of training)')\n",
        "\n",
        "# Plot point forecast\n",
        "plt.plot(h_idx, forecast, marker='x', label='Forecast (24 mo)')\n",
        "\n",
        "# Fixed ±1.96×RMSE band\n",
        "plt.fill_between(h_idx, lower, upper,\n",
        "                 color='gray', alpha=0.3, label='Fixed 95% CI')\n",
        "\n",
        "# **New**: MC-dropout 95% CI band\n",
        "plt.fill_between(h_idx, mc_lower, mc_upper,\n",
        "                 color='orange', alpha=0.3, label='MC-dropout 95% CI')\n",
        "\n",
        "# Plot actual current data\n",
        "plt.plot(h_idx, live_slice.values,\n",
        "         linestyle='--', color='green', label='Current data')\n",
        "\n",
        "# Zoom x-axis\n",
        "plt.xlim(monthly.index[-look_back], h_idx[-1])\n",
        "\n",
        "plt.title('Oil Price: Historical, Forecast & Current data with MC-dropout CI')\n",
        "plt.xlabel('Date'); plt.ylabel('Price (USD)')\n",
        "plt.legend()\n",
        "plt.show()\n"
      ],
      "metadata": {
        "colab": {
          "base_uri": "https://localhost:8080/",
          "height": 410
        },
        "id": "Nhqly9JhP7Tz",
        "outputId": "49972b92-833b-47b5-d111-8b502d26ecd9"
      },
      "execution_count": 28,
      "outputs": [
        {
          "output_type": "display_data",
          "data": {
            "text/plain": [
              "<Figure size 1000x400 with 1 Axes>"
            ],
            "image/png": "[encoded data removed]"
          },
          "metadata": {}
        }
      ]
    },
    {
      "cell_type": "code",
      "source": [
        "# Compute & Print Final Overlap Metrics\n",
        "from sklearn.metrics import mean_squared_error, mean_absolute_error\n",
        "import numpy as np\n",
        "\n",
        "# Align forecast and actual CSV data\n",
        "f = pd.Series(forecast, index=h_idx)\n",
        "a = monthly_latest.reindex(h_idx).ffill()\n",
        "\n",
        "common = f.index.intersection(a.index)\n",
        "f_common = f.loc[common]\n",
        "a_common = a.loc[common]\n",
        "\n",
        "rmse_final = np.sqrt(mean_squared_error(a_common, f_common))\n",
        "mae_final  = mean_absolute_error(a_common, f_common)\n",
        "mape_final = np.mean(np.abs((a_common - f_common) / a_common)) * 100\n",
        "\n",
        "start, end = common[0].date(), common[-1].date()\n",
        "print(f\"Overlap period: {start} to {end}\")\n",
        "print(f\"  RMSE : ${rmse_final:.2f}\")\n",
        "print(f\"  MAE  : ${mae_final:.2f}\")\n",
        "print(f\"  MAPE : {mape_final:.1f}%\")\n"
      ],
      "metadata": {
        "colab": {
          "base_uri": "https://localhost:8080/"
        },
        "id": "FuAY40BCLAPJ",
        "outputId": "50a1bc9d-fc09-4209-9816-6e324586ad77"
      },
      "execution_count": 24,
      "outputs": [
        {
          "output_type": "stream",
          "name": "stdout",
          "text": [
            "Overlap period: 2023-01-31 to 2024-12-31\n",
            "  RMSE : $15.88\n",
            "  MAE  : $13.95\n",
            "  MAPE : 16.8%\n"
          ]
        }
      ]
    }
  ],
  "metadata": {
    "kernelspec": {
      "display_name": "Python 3",
      "name": "python3"
    },
    "language_info": {
      "codemirror_mode": {
        "name": "ipython",
        "version": 3
      },
      "file_extension": ".py",
      "mimetype": "text/x-python",
      "name": "python",
      "nbconvert_exporter": "python",
      "pygments_lexer": "ipython3",
      "version": "3.8.16"
    },
    "colab": {
      "provenance": [],
      "gpuType": "L4",
      "include_colab_link": true
    },
    "accelerator": "GPU"
  },
  "nbformat": 4,
  "nbformat_minor": 0
}